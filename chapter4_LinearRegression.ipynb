{
 "cells": [
  {
   "cell_type": "markdown",
   "id": "figured-forum",
   "metadata": {},
   "source": [
    "### Linear regression model "
   ]
  },
  {
   "cell_type": "markdown",
   "id": "random-liabilities",
   "metadata": {},
   "source": [
    "A linear model makes a prediction by computing a **weighted sum of the input features** plus a constant called the **bias term** (or intercept term): \n",
    "\n",
    "$\\hat{y}$ = $\\theta_{0}$ + $\\theta_{1}$$x_{1}$ + $\\theta_{2}$$x_{2}$ + ... + $\\theta_{n}$$x_{n}$\n",
    "\n",
    " * $\\hat{y}$ = predicted value \n",
    " * n = number of features \n",
    " * $x_{i}$ = i-th feature value \n",
    " * $\\theta_{j}$ = j-th model parameter, including the bias term $\\theta_{0}$ and the feature weights $\\theta_{1}$ ... $\\theta_{n}$"
   ]
  },
  {
   "cell_type": "markdown",
   "id": "boolean-ordering",
   "metadata": {},
   "source": [
    "In **vectorized form**, the linear regression model prediction is: \n",
    "\n",
    "$\\hat{y}$ = $h_{\\theta}$(x) = $\\theta$x\n",
    "\n",
    " * $\\theta$ = model's parameter vector, containing the bias term $\\theta_{0}$ and the feature weights $\\theta_{1}$ ... $\\theta_{n}$\n",
    " * x = instances' feature vector, containing $x_{0}$ to $x_{n}$, with $x_{0}$ always equal to 1 \n",
    " * $\\theta$x = dot product of the vectors $\\theta$ and x \n",
    " * $h_{\\theta}$ = hypothesis function using the model parameters $\\theta$"
   ]
  },
  {
   "cell_type": "markdown",
   "id": "nonprofit-burning",
   "metadata": {},
   "source": [
    "### Training a linear regression model "
   ]
  },
  {
   "cell_type": "markdown",
   "id": "wrapped-david",
   "metadata": {},
   "source": [
    "#### 1. Cost function"
   ]
  },
  {
   "cell_type": "markdown",
   "id": "horizontal-roots",
   "metadata": {},
   "source": [
    "Cost function: Mean Squared Error (MSE)\n",
    "\n",
    "MSE(X, $h_{\\theta}$) = $\\frac{1}{2}$ $\\sum_{i = 1}^{m}$ ($\\theta$$x^{(i)}$ - $y^{(i)}$)$^{2}$"
   ]
  },
  {
   "cell_type": "markdown",
   "id": "primary-migration",
   "metadata": {},
   "source": [
    "To minimize the MSE, we can use: \n",
    "\n",
    " * **Closed-form equation (Normal equation)** = directly computes the model parameters that best fit the model to the training set (model parameters that minimize the MSE over the training set) \n",
    " * **Iterative approach** called **Gradient Descent** = gradually tweaks the model parameters to minimize the cost function over the training set, eventually converging to the same set of parameters as the Normal equation"
   ]
  },
  {
   "cell_type": "markdown",
   "id": "pregnant-shanghai",
   "metadata": {},
   "source": [
    "#### 2. Normal equation (closed-form solution)"
   ]
  },
  {
   "cell_type": "markdown",
   "id": "cooked-density",
   "metadata": {},
   "source": [
    "$\\hat{\\theta}$ = ($X^{T}$ $X$)$^{-1}$ $X^{T}$ $y$\n",
    "\n",
    " * $\\hat{\\theta}$ = value of $\\theta$ that minimizes the cost function \n",
    " * y = vector of target values "
   ]
  },
  {
   "cell_type": "code",
   "execution_count": 4,
   "id": "dress-friendship",
   "metadata": {},
   "outputs": [],
   "source": [
    "# Generate linear-looking data \n",
    "import numpy as np \n",
    "\n",
    "X = 2 * np.random.rand(100, 1)\n",
    "y = 4 + 3 * X + np.random.randn(100, 1) # Gaussian noise "
   ]
  },
  {
   "cell_type": "code",
   "execution_count": 5,
   "id": "chicken-services",
   "metadata": {},
   "outputs": [],
   "source": [
    "X_b = np.c_[np.ones((100, 1)), X] # add x0 = 1 to each instance \n",
    "theta_best = np.linalg.inv(X_b.T.dot(X_b)).dot(X_b.T).dot(y)"
   ]
  },
  {
   "cell_type": "code",
   "execution_count": 6,
   "id": "unknown-landscape",
   "metadata": {},
   "outputs": [
    {
     "data": {
      "text/plain": [
       "array([[4.13585256],\n",
       "       [2.84301161]])"
      ]
     },
     "execution_count": 6,
     "metadata": {},
     "output_type": "execute_result"
    }
   ],
   "source": [
    "theta_best # not too far from the real intercept and slope of the model "
   ]
  },
  {
   "cell_type": "code",
   "execution_count": 7,
   "id": "soviet-syria",
   "metadata": {},
   "outputs": [
    {
     "data": {
      "text/plain": [
       "array([[4.13585256],\n",
       "       [9.82187578]])"
      ]
     },
     "execution_count": 7,
     "metadata": {},
     "output_type": "execute_result"
    }
   ],
   "source": [
    "# Make predictions using the parameter vector computed with the closed form solution \n",
    "X_new = np.array([[0], [2]])\n",
    "X_new_b = np.c_[np.ones((2, 1)), X_new] # add x0 = 1 to each instance \n",
    "y_predict = X_new_b.dot(theta_best)\n",
    "y_predict"
   ]
  },
  {
   "cell_type": "code",
   "execution_count": 8,
   "id": "floral-cheat",
   "metadata": {},
   "outputs": [
    {
     "data": {
      "image/png": "[encoded data removed]",
      "text/plain": [
       "<Figure size 432x288 with 1 Axes>"
      ]
     },
     "metadata": {
      "needs_background": "light"
     },
     "output_type": "display_data"
    }
   ],
   "source": [
    "import matplotlib.pyplot as plt \n",
    "\n",
    "plt.plot(X_new, y_predict, \"r-\")\n",
    "plt.plot(X, y, \"b.\")\n",
    "plt.axis([0, 2, 0, 15]) # x and y min and max coordinates \n",
    "plt.show()"
   ]
  },
  {
   "cell_type": "code",
   "execution_count": 9,
   "id": "current-arrival",
   "metadata": {},
   "outputs": [
    {
     "data": {
      "text/plain": [
       "(array([4.13585256]), array([[2.84301161]]))"
      ]
     },
     "execution_count": 9,
     "metadata": {},
     "output_type": "execute_result"
    }
   ],
   "source": [
    "# in sklearn \n",
    "from sklearn.linear_model import LinearRegression \n",
    "lin_reg = LinearRegression()\n",
    "lin_reg.fit(X, y)\n",
    "lin_reg.intercept_, lin_reg.coef_"
   ]
  },
  {
   "cell_type": "code",
   "execution_count": 10,
   "id": "controlled-rainbow",
   "metadata": {},
   "outputs": [
    {
     "data": {
      "text/plain": [
       "array([[4.13585256],\n",
       "       [9.82187578]])"
      ]
     },
     "execution_count": 10,
     "metadata": {},
     "output_type": "execute_result"
    }
   ],
   "source": [
    "lin_reg.predict(X_new)"
   ]
  },
  {
   "cell_type": "markdown",
   "id": "facial-sequence",
   "metadata": {},
   "source": [
    "LinearRegression class in sklearn is based on the scipy.linalg.lstsq() function, which computes \n",
    "\n",
    "$\\hat{\\theta}$ = ($X^{+}$ $y$)\n",
    "\n",
    " * $X^{+}$ = pseudoinverse of X, which is computed using Singular Value Decomposition. SVD decomposes the training set $X$ into the matrix multiplication of $U$ $\\sum_{}^{+}$ $V^{T}$ --> this is useful because the Normal equation may not work of $X^{T}$ $X$ is not invertible, such as when m < n or if some features are redundant. On the other hand, the pseudoinverse of a matrix is always defined. "
   ]
  },
  {
   "cell_type": "markdown",
   "id": "listed-pharmacology",
   "metadata": {},
   "source": [
    "#### 3. Gradient descent "
   ]
  },
  {
   "cell_type": "markdown",
   "id": "excited-actress",
   "metadata": {},
   "source": [
    "Iterative procedure to tweak parameters in order to minimize a cost function. It measures the local gradient of the cost function with respect to the parameter vector $\\theta$ and it goes in the direction of the descending gradient. Once the gradient is 0, we have reached a minimum. \n",
    "\n",
    " 1. Start by filling $\\theta$ with random values (random initialization) \n",
    " 2. Improve $\\theta$ gradually at each step attempting to decrease the cost function \n",
    " 3. Algorithm converges to a minimum \n",
    " \n",
    "Important hyperparameter in Gradient Descent is the size of the steps: **learning rate**\n",
    "\n",
    "MSE cost function for a Linear Regression model is a convex function, meaning that if we pick any two points on the curve, the line segment joining them never crosses the curve. --> there are no local minima, just one global minimum. It is also a continuous function with a slope that never changes abruptly. Because of these two features, Gradient Descent is guaranteed to approach arbitrarily close the global minimum. \n",
    "\n",
    "**!!** When using Gradient Descent, we should ensure that all features have a similar scale or it will take much longer to converge. "
   ]
  },
  {
   "cell_type": "markdown",
   "id": "silent-sheep",
   "metadata": {},
   "source": [
    "#### 3a. Batch Gradient Descent \n",
    "\n",
    "To implement Gradient Descent, we need to compute the gradient of the cost function with respect to each model parameter $\\theta_{j}$ (partial derivatives). For MSE, the partial derivatives are: \n",
    "\n",
    "$\\displaystyle \\frac{\\partial MSE(\\theta)}{\\partial \\theta_{j}}$ =  $\\frac{2}{m}$ $\\sum_{i = 1}^{m}$ ($\\theta$$x^{(i)}$ - $y^{(i)}$)$x_{j}^{(i)}$\n",
    "\n",
    "Instead of computing these partial derivatives individually, we can instead compute them in one go using a gradient vector which contains all the partial derivatives of the cost function (one for each model parameter): \n",
    "\n",
    "$\\nabla_{\\theta}$ MSE($\\theta$) = $\\frac{2}{m}$ $X^{T}$ ($X$ $\\theta$ - $y$)\n",
    "\n",
    "This notation involves calculations over the full training set $X$ at every step. As a result, Batch Gradient Descent is very slow on large trianing sets but scales well with the number of features. \n",
    "\n",
    "Once we have the gradient vector, which by definition points uphill, we go in the opposite direction to go downhill. This means subtracting $\\nabla_{\\theta}$ MSE($\\theta$) from $\\theta$. We also multiply the gradient vector by the learning rate $\\eta$ to determine the size of the downhill step. \n",
    "\n",
    "$\\theta^{(next step)}$ = $\\theta$ - $\\eta$ $\\nabla_{\\theta}$ MSE($\\theta$) "
   ]
  },
  {
   "cell_type": "code",
   "execution_count": 12,
   "id": "third-queensland",
   "metadata": {},
   "outputs": [
    {
     "data": {
      "text/plain": [
       "array([[4.13585256],\n",
       "       [2.84301161]])"
      ]
     },
     "execution_count": 12,
     "metadata": {},
     "output_type": "execute_result"
    }
   ],
   "source": [
    "eta = 0.1 # Specify learning rate \n",
    "n_iterations = 1000\n",
    "m = 100\n",
    "\n",
    "theta = np.random.randn(2, 1) # random initialization of the parameters \n",
    "for iteration in range(n_iterations):\n",
    "    gradients = 2/m * X_b.T.dot(X_b.dot(theta) - y)\n",
    "    theta = theta - eta * gradients\n",
    "\n",
    "theta # same as what the normal equation found!! "
   ]
  },
  {
   "cell_type": "markdown",
   "id": "sunrise-blast",
   "metadata": {},
   "source": [
    "#### 3b. Stochastic Gradient Descent \n",
    "\n",
    "The main problem with Batch Gradient Descent is that it uses the whole training set to compute gradients at every step, which makes it slow as the dataset gets large. Stochastic Gradient Descent, instead, picks a random instance in the training set at every step and computes the gradients based only on that single instance. \n",
    "\n",
    " * faster implementation \n",
    " * stochasticy makes it less regular than Batch Gradient Descent \n",
    " * finds good but not optimal parameter values\n",
    " * when the cost function is very irregular, it can help the algorithm jump out of local minima \n",
    " * to settle at the minimum, we can gradually reduce the learning rate by setting a **learning schedule**, which determines the learning rate at each iteration. "
   ]
  },
  {
   "cell_type": "code",
   "execution_count": 13,
   "id": "based-memphis",
   "metadata": {},
   "outputs": [],
   "source": [
    "n_epochs = 50 \n",
    "t0, t1 = 5, 50 # learning schedule hyperparameters \n",
    "\n",
    "def learning_schedule(t):\n",
    "    return t0 / (t + t1)\n",
    "\n",
    "theta = np.random.randn(2, 1) # random initialization of model parameters \n",
    "\n",
    "for epoch in range(n_epochs):\n",
    "    for i in range(m):\n",
    "        random_index = np.random.randint(m)\n",
    "        xi = X_b[random_index: random_index+1]\n",
    "        yi = y[random_index: random_index+1]\n",
    "        gradients = 2 * xi.T.dot(xi.dot(theta) - yi)\n",
    "        eta = learning_schedule(epoch * m + i)\n",
    "        theta = theta - eta * gradients"
   ]
  },
  {
   "cell_type": "code",
   "execution_count": 14,
   "id": "frank-target",
   "metadata": {},
   "outputs": [
    {
     "data": {
      "text/plain": [
       "array([[4.08471239],\n",
       "       [2.78775735]])"
      ]
     },
     "execution_count": 14,
     "metadata": {},
     "output_type": "execute_result"
    }
   ],
   "source": [
    "theta "
   ]
  },
  {
   "cell_type": "markdown",
   "id": "fewer-revolution",
   "metadata": {},
   "source": [
    "**!!** Since the instances are picked randomly, some instances may be picked several times per epoch while others may not be picked at all. If we want to be sure that the algorithm goes through every instance at each epoch, we can **shuffle the training set**, then go through it instance by instance, then shuffle it again... Shuffling is important because it makes sure that instances are **independent and identically distributed (IID)** --> otherwise, if the instances are for example sorted by label (hence not IID), SGD will start by optimizing for one label, then the next and so on without ever settling close to the global minimum."
   ]
  },
  {
   "cell_type": "code",
   "execution_count": 15,
   "id": "broad-queens",
   "metadata": {},
   "outputs": [
    {
     "data": {
      "text/plain": [
       "SGDRegressor(eta0=0.1, penalty=None)"
      ]
     },
     "execution_count": 15,
     "metadata": {},
     "output_type": "execute_result"
    }
   ],
   "source": [
    "from sklearn.linear_model import SGDRegressor \n",
    "sgd_reg = SGDRegressor(max_iter = 1000, tol = 1e-3, penalty=None, eta0=0.1)\n",
    "sgd_reg.fit(X, y.ravel())"
   ]
  },
  {
   "cell_type": "code",
   "execution_count": 16,
   "id": "violent-delivery",
   "metadata": {},
   "outputs": [
    {
     "data": {
      "text/plain": [
       "(array([4.1860683]), array([2.99340302]))"
      ]
     },
     "execution_count": 16,
     "metadata": {},
     "output_type": "execute_result"
    }
   ],
   "source": [
    "sgd_reg.intercept_, sgd_reg.coef_"
   ]
  },
  {
   "cell_type": "markdown",
   "id": "objective-external",
   "metadata": {},
   "source": [
    "#### 3c. Mini-batch Gradient Descent\n",
    "\n",
    "At each step, instead of computing the gradients based on the full training set or based on just one instance, Mini-batch Gradient Descent computes the gradients on a small random set of instances called a mini-batch. \n",
    "\n",
    " * progress in the parameter space is less erratic that with SGD "
   ]
  },
  {
   "cell_type": "markdown",
   "id": "fuzzy-collaboration",
   "metadata": {},
   "source": [
    "#### End of notebook"
   ]
  },
  {
   "cell_type": "code",
   "execution_count": null,
   "id": "fallen-isaac",
   "metadata": {},
   "outputs": [],
   "source": []
  }
 ],
 "metadata": {
  "kernelspec": {
   "display_name": "scanpy_env",
   "language": "python",
   "name": "scanpy_env"
  },
  "language_info": {
   "codemirror_mode": {
    "name": "ipython",
    "version": 3
   },
   "file_extension": ".py",
   "mimetype": "text/x-python",
   "name": "python",
   "nbconvert_exporter": "python",
   "pygments_lexer": "ipython3",
   "version": "3.8.8"
  }
 },
 "nbformat": 4,
 "nbformat_minor": 5
}
