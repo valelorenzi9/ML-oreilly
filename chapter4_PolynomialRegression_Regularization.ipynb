{
 "cells": [
  {
   "cell_type": "markdown",
   "id": "wooden-shock",
   "metadata": {},
   "source": [
    "### Polynomial Regression"
   ]
  },
  {
   "cell_type": "markdown",
   "id": "sized-handle",
   "metadata": {},
   "source": [
    "If our data is more complex than a straight line, we can still fit a linear model to nonlinear data by adding powers of each feature as new features and then train the linear model on this extended set of features. "
   ]
  },
  {
   "cell_type": "code",
   "execution_count": 1,
   "id": "meaningful-window",
   "metadata": {},
   "outputs": [],
   "source": [
    "import numpy as np\n",
    "m = 100 \n",
    "X = 6 * np.random.rand(m, 1) - 3\n",
    "y = 0.5 * X**2 + X + 2 + np.random.randn(m, 1)"
   ]
  },
  {
   "cell_type": "code",
   "execution_count": 2,
   "id": "related-soviet",
   "metadata": {},
   "outputs": [
    {
     "data": {
      "text/plain": [
       "array([-0.8252683])"
      ]
     },
     "execution_count": 2,
     "metadata": {},
     "output_type": "execute_result"
    }
   ],
   "source": [
    "from sklearn.preprocessing import PolynomialFeatures \n",
    "poly_features = PolynomialFeatures(degree = 2, include_bias = False) # Add second degree polynomial to features\n",
    "X_poly = poly_features.fit_transform(X)\n",
    "X[0]"
   ]
  },
  {
   "cell_type": "code",
   "execution_count": 3,
   "id": "comparable-uncle",
   "metadata": {},
   "outputs": [
    {
     "data": {
      "text/plain": [
       "array([-0.8252683 ,  0.68106776])"
      ]
     },
     "execution_count": 3,
     "metadata": {},
     "output_type": "execute_result"
    }
   ],
   "source": [
    "X_poly[0] # Contains the original feature of X plus the square of the feature "
   ]
  },
  {
   "cell_type": "code",
   "execution_count": 4,
   "id": "polyphonic-emission",
   "metadata": {},
   "outputs": [
    {
     "data": {
      "text/plain": [
       "(array([2.1225504]), array([[0.97882993, 0.50676682]]))"
      ]
     },
     "execution_count": 4,
     "metadata": {},
     "output_type": "execute_result"
    }
   ],
   "source": [
    "# Now fit linear regression to this extended data \n",
    "from sklearn.linear_model import LinearRegression\n",
    "lin_reg = LinearRegression()\n",
    "lin_reg.fit(X_poly, y)\n",
    "lin_reg.intercept_, lin_reg.coef_"
   ]
  },
  {
   "cell_type": "markdown",
   "id": "functioning-kazakhstan",
   "metadata": {},
   "source": [
    "When there are multiple features, Polynomial Regression is capable of finding relationships between features by adding combinations of features up to a given degree. \n",
    "Eg. two features a, b with degree=3 --> \n",
    "\n",
    "$a^{3}$, $b^{3}$, $a^{2}$, $b^{2}$, $a^{2}b$, $b^{2}a$, $ab$"
   ]
  },
  {
   "cell_type": "markdown",
   "id": "essential-spencer",
   "metadata": {},
   "source": [
    "#### Learning curves"
   ]
  },
  {
   "cell_type": "markdown",
   "id": "drawn-security",
   "metadata": {},
   "source": [
    "Learning curves are plots of the model's performance on the training and the validation set as a function of the training set size (or the training iteration). To generate these plots, we train the model several times on different sized subsets of the training set. "
   ]
  },
  {
   "cell_type": "code",
   "execution_count": 5,
   "id": "acceptable-syria",
   "metadata": {},
   "outputs": [],
   "source": [
    "from sklearn.metrics import mean_squared_error \n",
    "from sklearn.model_selection import train_test_split \n",
    "import matplotlib.pyplot as plt \n",
    "\n",
    "def plot_learning_curves(model, X, y):\n",
    "    X_train, X_val, y_train, y_val = train_test_split(X, y, test_size = 0.2)\n",
    "    train_errors, val_errors = [], []\n",
    "    for m in range(1, len(X_train)):\n",
    "        model.fit(X_train[:m], y_train[:m])\n",
    "        y_train_predict = model.predict(X_train[:m])\n",
    "        y_val_predict = model.predict(X_val)\n",
    "        train_errors.append(mean_squared_error(y_train[:m], y_train_predict))\n",
    "        val_errors.append(mean_squared_error(y_val, y_val_predict))\n",
    "    plt.plot(np.sqrt(train_errors), \"r-+\", linewidth = 2, label = \"train\")\n",
    "    plt.plot(np.sqrt(val_errors), \"b-\", linewidth = 3, label = \"val\")\n",
    "    plt.xlabel(\"Training set size\")\n",
    "    plt.ylabel(\"RMSE\")\n",
    "    plt.legend(['training', 'validation'])"
   ]
  },
  {
   "cell_type": "code",
   "execution_count": 8,
   "id": "entitled-rachel",
   "metadata": {},
   "outputs": [
    {
     "data": {
      "image/png": "[encoded data removed]",
      "text/plain": [
       "<Figure size 432x288 with 1 Axes>"
      ]
     },
     "metadata": {
      "needs_background": "light"
     },
     "output_type": "display_data"
    }
   ],
   "source": [
    "# Performance of a linear regression model \n",
    "lin_reg = LinearRegression()\n",
    "plot_learning_curves(lin_reg, X, y)"
   ]
  },
  {
   "cell_type": "markdown",
   "id": "altered-conclusion",
   "metadata": {},
   "source": [
    "**Training error**:\n",
    "* When there are only few training instances, the model can fit the perfectly, which is why the training learning curve starts at 0. \n",
    " * As new instances are added to the training set, it becomes impossible for the model to fit the training data perfectly because the data is noisy and not linear. \n",
    " * Error on the training data goes up until it reaches a plateau. \n",
    "\n",
    "\n",
    "**Validation error**: \n",
    " * When the model is trained on few instances, it is uncapable of generalizing properly, which is why the validation error is initially big. \n",
    " * As the model is shown more training examples, the validation error goes down. \n",
    " * Error on the validation data reaches a plateau. \n",
    " \n",
    "\n",
    "These learning curves are typical of a model that is **UNDERFITTING**: both curves reached a plateau and are close and fairly high. "
   ]
  },
  {
   "cell_type": "code",
   "execution_count": 9,
   "id": "turkish-smooth",
   "metadata": {},
   "outputs": [
    {
     "data": {
      "image/png": "[encoded data removed]",
      "text/plain": [
       "<Figure size 432x288 with 1 Axes>"
      ]
     },
     "metadata": {
      "needs_background": "light"
     },
     "output_type": "display_data"
    }
   ],
   "source": [
    "# Performance of a 10-th degree polynomial \n",
    "from sklearn.pipeline import Pipeline \n",
    "polynomial_regression = Pipeline([\n",
    "    ('poly_features', PolynomialFeatures(degree = 10, include_bias = False)),\n",
    "    (\"lin_reg\", LinearRegression()),\n",
    "])\n",
    "\n",
    "plot_learning_curves(polynomial_regression, X, y)"
   ]
  },
  {
   "cell_type": "markdown",
   "id": "superior-publication",
   "metadata": {},
   "source": [
    "**Training error**\n",
    " * Lower than when using Logistic Regression only \n",
    " * There is a gap between the curves, meaning that the model performs significantly better on the training data than the validation data --> sign of overfitting. "
   ]
  },
  {
   "cell_type": "markdown",
   "id": "fancy-andrew",
   "metadata": {},
   "source": [
    "#### Bias-variance trade-off\n",
    "\n",
    "A model's generalization error can be expressed as the sum of 3 errors: \n",
    "\n",
    " 1. **BIAS** = part of the generalization error due to **wrong assumptions** (eg. the data is linear when it is actually quadratic) --> high bias model is likely to **underfit the training data**. \n",
    " 2. **VARIANCE** = due to the model's excessive **sensitivity to small variations** in the training data. --> model with many degrees of freedom is likely to have high variance and **overfit the training data**.\n",
    " 3. **IRREDUCIBLE ERROR** = due to **noisiness** of the data itself. The only way to reduce this part of the error is to clean up the data. \n",
    " \n",
    "**!!** Increasing a model's complexity increases its variance and reduces its bias and vice-versa."
   ]
  },
  {
   "cell_type": "markdown",
   "id": "photographic-recording",
   "metadata": {},
   "source": [
    "### Regularized Linear Models "
   ]
  },
  {
   "cell_type": "markdown",
   "id": "catholic-narrow",
   "metadata": {},
   "source": [
    "For a linear model, regularization is typically achieved by constraining the weights of the model."
   ]
  },
  {
   "cell_type": "markdown",
   "id": "respected-conspiracy",
   "metadata": {},
   "source": [
    "#### 1. Ridge Regression\n",
    "\n",
    "Regularized version of Linear Regression which forces the learning algorithm to not only fit the data but also keep the model weights as small as possible. \n",
    "\n",
    "Regularizzation term: $\\alpha$ $\\frac{1}{2}$ $\\sum_{i = 1}^{n}$ $\\theta_{i}^{2}$ --> added to the cost function only during training. \n",
    "\n",
    "Hyperparameter $\\alpha$ : controls how much you want to regularize the model. If $\\alpha$ = 0, same as Linear Regression, if $\\alpha$ very large, all weights are very close to 0. \n",
    "\n",
    "Also important to note that the bias term $\\theta_{0}$ is not regularized as the sume starts at 1.  \n",
    "\n",
    "**!!** Scale the data before performing Ridge Regression as it is sensitive to the scale of the input features. "
   ]
  },
  {
   "cell_type": "markdown",
   "id": "forward-sydney",
   "metadata": {},
   "source": [
    "#### 1a. Ridge Regression with closed-form solution "
   ]
  },
  {
   "cell_type": "code",
   "execution_count": 10,
   "id": "interim-daughter",
   "metadata": {},
   "outputs": [
    {
     "data": {
      "text/plain": [
       "array([[4.81049806]])"
      ]
     },
     "execution_count": 10,
     "metadata": {},
     "output_type": "execute_result"
    }
   ],
   "source": [
    "from sklearn.linear_model import Ridge \n",
    "ridge_reg = Ridge(alpha = 1, solver = \"cholesky\")\n",
    "ridge_reg.fit(X, y)\n",
    "ridge_reg.predict([[1.5]])"
   ]
  },
  {
   "cell_type": "markdown",
   "id": "orange-notice",
   "metadata": {},
   "source": [
    "#### 1b. Ridge Regression with Gradient Descent "
   ]
  },
  {
   "cell_type": "code",
   "execution_count": 11,
   "id": "boxed-monte",
   "metadata": {},
   "outputs": [
    {
     "data": {
      "text/plain": [
       "array([4.79682018])"
      ]
     },
     "execution_count": 11,
     "metadata": {},
     "output_type": "execute_result"
    }
   ],
   "source": [
    "from sklearn.linear_model import SGDRegressor \n",
    "sgd_reg = SGDRegressor(penalty = \"l2\") # L2 norm of the weight vector \n",
    "sgd_reg.fit(X, y.ravel())\n",
    "sgd_reg.predict([[1.5]])"
   ]
  },
  {
   "cell_type": "markdown",
   "id": "quantitative-meter",
   "metadata": {},
   "source": [
    "#### 2. Lasso Regression\n",
    "\n",
    "Like Ridge, it adds a regularization term to the cost function but uses the L1 norm of the weight vector instead of the half square of the L2 norm. \n",
    "\n",
    "Regularization term: $\\alpha$ $\\sum_{i = 1}^{n}$ $|\\theta_{i}|$\n",
    "\n",
    "**!!** Tends to eliminate weights of the least important features by setting them to zero, thus automatically performing **feature selection** and outputting a sparse model. \n",
    "\n",
    "**!!** To avoid Gradient Descent from bouncing around the optimum at the end when using Lasso, we need to gradually reduce the learning rate during training.\n",
    "\n",
    "**!!** Lasso cost function is not differentiable at $\\theta{i}$ = 0, but Gradient Descent still works fine if we use a subgradient vector. "
   ]
  },
  {
   "cell_type": "code",
   "execution_count": 12,
   "id": "honey-sucking",
   "metadata": {},
   "outputs": [
    {
     "data": {
      "text/plain": [
       "array([4.76071817])"
      ]
     },
     "execution_count": 12,
     "metadata": {},
     "output_type": "execute_result"
    }
   ],
   "source": [
    "from sklearn.linear_model import Lasso \n",
    "lasso_reg = Lasso(alpha = 0.1)\n",
    "lasso_reg.fit(X, y)\n",
    "lasso_reg.predict([[1.5]])"
   ]
  },
  {
   "cell_type": "markdown",
   "id": "continuous-opera",
   "metadata": {},
   "source": [
    "#### 3. Elastic Net \n",
    "\n",
    "Middle ground between Ridge and Lasso regression. \n",
    "\n",
    "$r$ $\\alpha$ $\\sum_{i = 1}^{n}$ $|\\theta_{i}|$ + $\\frac{1-r}{2}$ $\\sum_{i = 1}^{n}$ $\\theta_{i}^{2}$\n",
    "\n",
    " * when $r$ = 0, Elastic Net is the same as Ridge \n",
    " * when $r$ = 1, Elastic Net is the same as Lasso\n",
    " \n",
    "\n",
    "In general, Elastic Net is preferred over Lasso because Lasso may behave erraticly when the number of features is greater than the number of training instances or when several features are strongly correlated. "
   ]
  },
  {
   "cell_type": "code",
   "execution_count": 13,
   "id": "amended-allergy",
   "metadata": {},
   "outputs": [
    {
     "data": {
      "text/plain": [
       "array([4.76585208])"
      ]
     },
     "execution_count": 13,
     "metadata": {},
     "output_type": "execute_result"
    }
   ],
   "source": [
    "from sklearn.linear_model import ElasticNet \n",
    "elastic_net = ElasticNet(alpha = 0.1, l1_ratio = 0.5)\n",
    "elastic_net.fit(X, y)\n",
    "elastic_net.predict([[1.5]])"
   ]
  },
  {
   "cell_type": "markdown",
   "id": "logical-shelter",
   "metadata": {},
   "source": [
    "#### 4. Early stopping\n",
    "\n",
    "An alternative way to regularize iterative learning algorithms (eg. Gradient Descent) is to stop training as soon as the validation error reaches a minimum. \n",
    "\n",
    "**!!** With Stochastic and Mini-batch Gradient Descent the curves are not so smooth, so it may be hard to know whether we have reached a minimum or not. One solution is to stop only after the validation error has been above the minimum for some time and then roll back the model parameters to the point where the validation error was at a minimum. "
   ]
  },
  {
   "cell_type": "markdown",
   "id": "obvious-address",
   "metadata": {},
   "source": [
    "#### End of notebook"
   ]
  },
  {
   "cell_type": "code",
   "execution_count": null,
   "id": "organizational-jamaica",
   "metadata": {},
   "outputs": [],
   "source": []
  }
 ],
 "metadata": {
  "kernelspec": {
   "display_name": "scanpy_env",
   "language": "python",
   "name": "scanpy_env"
  },
  "language_info": {
   "codemirror_mode": {
    "name": "ipython",
    "version": 3
   },
   "file_extension": ".py",
   "mimetype": "text/x-python",
   "name": "python",
   "nbconvert_exporter": "python",
   "pygments_lexer": "ipython3",
   "version": "3.8.8"
  }
 },
 "nbformat": 4,
 "nbformat_minor": 5
}
