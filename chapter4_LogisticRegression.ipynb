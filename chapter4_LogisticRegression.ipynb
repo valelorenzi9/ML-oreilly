{
 "cells": [
  {
   "cell_type": "markdown",
   "id": "quality-north",
   "metadata": {},
   "source": [
    "### Logistic Regression"
   ]
  },
  {
   "cell_type": "markdown",
   "id": "bronze-wedding",
   "metadata": {},
   "source": [
    "Estimates the probability that an instance belongs to a particular class. If the estimated probability is greater than 0.5, the model predicts that the instance belongs to that class, and otherwise predicts that it does not. Logistic Regression is a **binary classifier**. \n",
    "\n",
    "It computes a weighted sum of the input features plus a bias term and outputs the logistic of this result: \n",
    "\n",
    "$\\hat{p}$ = $h_{\\theta}(x)$ = $\\sigma(\\theta^{T}x)$\n",
    "\n",
    " * $\\sigma$ is a sigmoid function that outputs a number between 0 and 1. \n",
    "\n",
    "$\\sigma(t)$ = $\\frac{1}{1 + exp(-t)}$"
   ]
  },
  {
   "cell_type": "markdown",
   "id": "played-hearing",
   "metadata": {},
   "source": [
    "**Cost function of a single training instance**\n",
    "\n",
    "The objective of training is to set the parameter vector $\\theta$ so that the model estimates high probabilities for positive instances and low probabilities for negative instances. \n",
    "\n",
    "$c(\\theta)$ = -log($\\hat{p}$) if $y$ = 1 OR -log(1 - $\\hat{p}$) if $y$ = 0\n",
    "\n",
    "**Cost function over the whole training set** \n",
    "\n",
    "Average cost over all training instances (log loss):\n",
    "\n",
    "$J(\\theta)$ = $\\frac{-1}{m}$ $\\sum_{i = 1}^{m}$ [ $y^{(i)}$ $log(\\hat{p}^{(i)})$ + (1-$y^{(i)}$)$log(1-\\hat{p}^{(i)})$ ]\n",
    "\n",
    "\n",
    "**!** There is **no closed form solution** for the log loss cost function, but the function is **convex** and therefore Gradient Descent is guaranteed to find the global minimum. The partial derivatives with respect to the model parameters $\\theta_{i}$ are: \n",
    "\n",
    "$\\frac{\\partial J(\\theta)}{\\partial \\theta_{i}}$ = $\\sum_{i = 1}^{m}$ ($\\sigma(\\theta^{T}x^{(i)} - y^{(i)})$ $x_{j}^{(i)}$"
   ]
  },
  {
   "cell_type": "markdown",
   "id": "cubic-meeting",
   "metadata": {},
   "source": [
    "#### Decision boundaries"
   ]
  },
  {
   "cell_type": "code",
   "execution_count": 1,
   "id": "characteristic-latino",
   "metadata": {},
   "outputs": [
    {
     "data": {
      "text/plain": [
       "['data',\n",
       " 'target',\n",
       " 'frame',\n",
       " 'target_names',\n",
       " 'DESCR',\n",
       " 'feature_names',\n",
       " 'filename']"
      ]
     },
     "execution_count": 1,
     "metadata": {},
     "output_type": "execute_result"
    }
   ],
   "source": [
    "from sklearn import datasets \n",
    "iris = datasets.load_iris()\n",
    "list(iris.keys())"
   ]
  },
  {
   "cell_type": "code",
   "execution_count": 3,
   "id": "polish-finish",
   "metadata": {},
   "outputs": [],
   "source": [
    "import numpy as np\n",
    "X = iris['data'][:, 3:] # Extract petal width\n",
    "y = (iris['target'] == 2).astype(np.int) # 1 if Iris Virginica, 0 otherwise"
   ]
  },
  {
   "cell_type": "code",
   "execution_count": 4,
   "id": "piano-gamma",
   "metadata": {},
   "outputs": [
    {
     "data": {
      "text/plain": [
       "LogisticRegression()"
      ]
     },
     "execution_count": 4,
     "metadata": {},
     "output_type": "execute_result"
    }
   ],
   "source": [
    "from sklearn.linear_model import LogisticRegression \n",
    "log_reg = LogisticRegression()\n",
    "log_reg.fit(X, y)"
   ]
  },
  {
   "cell_type": "code",
   "execution_count": 11,
   "id": "former-barcelona",
   "metadata": {},
   "outputs": [
    {
     "data": {
      "text/plain": [
       "Text(0, 0.5, 'Probability')"
      ]
     },
     "execution_count": 11,
     "metadata": {},
     "output_type": "execute_result"
    },
    {
     "data": {
      "image/png": "[encoded data removed]",
      "text/plain": [
       "<Figure size 432x288 with 1 Axes>"
      ]
     },
     "metadata": {
      "needs_background": "light"
     },
     "output_type": "display_data"
    }
   ],
   "source": [
    "import matplotlib.pyplot as plt\n",
    "X_new = np.linspace(0, 3, 1000).reshape(-1, 1)\n",
    "y_proba = log_reg.predict_proba(X_new)\n",
    "plt.plot(X_new, y_proba[:, 1], \"g--\", label = \"Iris virginica\")\n",
    "plt.plot(X_new, y_proba[:, 0], \"b--\", label = \"Not Iris virginica\")\n",
    "plt.legend([\"Iris virginica\", \"Not Iris virginica\"])\n",
    "plt.xlabel(\"Petal width (cm)\")\n",
    "plt.ylabel(\"Probability\")"
   ]
  },
  {
   "cell_type": "markdown",
   "id": "hired-holiday",
   "metadata": {},
   "source": [
    "At around 1.6 cm petal width, both probabilities are 0.5, making it the **decision boundary**. If the petal width is higher than 1.6 cm, the model will predict that the flower is an Iris viriginica, and otherwise it will predict that it is not. "
   ]
  },
  {
   "cell_type": "markdown",
   "id": "concrete-investing",
   "metadata": {},
   "source": [
    "#### Regularization \n",
    "\n",
    "Logistic Regression models can be regularized using L1 or L2 penalties (the default in sklearn is L2). The hyperparameter controlling the regularization strenght is not $\\alpha$ but its inverse $C$: the higher the value of $C$, the **less** the model is regularized. "
   ]
  },
  {
   "cell_type": "markdown",
   "id": "selective-sector",
   "metadata": {},
   "source": [
    "### Softmax Regression\n",
    "\n",
    "= generalization of the Logistic Regression model to support multiple classes without having to train and combine multiple binary classifiers. \n",
    "\n",
    " * When given an instance $x$, the Softmax Regression first computes a score $s_{k}(x)$ for each class $k$. \n",
    " \n",
    " * Applies softmax function to the score of every class for the instance $x$ to estimate the probability $\\hat{p}_{k}$ that the instance belongs to class $k$ \n",
    " \n",
    "$s_{k}(x)$ = $(\\theta^{(k)})^{T}x$ \n",
    "\n",
    "**Softmax function**\n",
    "\n",
    "$\\hat{p}_{k}$ = $\\sigma(s(x))_{k}$ = $\\frac{exp(s_{k}(x))}{\\sum_{j = 1}^{K}exp(s_{j}(x))}$\n",
    "\n",
    " * K = number of classes \n",
    " * $s(x)$ = vector containing the scores of each class for the instance $x$ \n",
    " * $\\sigma(s(x))_{k}$ = estimated probability that the instance $x$ belongs to class $k$ given the scores of each class for that instance\n",
    " \n",
    "\n",
    "**Prediction function**\n",
    "\n",
    "$\\hat{y}$ = $argmax_{k}$ $\\sigma(s(x))_{k}$ = $argmax_{k}$ $s_{k}(x)$ = $argmax_{k}$ $((\\theta^{(k)})^{T}x)$\n",
    "\n",
    "The argmax operator returns the value of a variable that maximizes a function. \n",
    "\n",
    "**!!** Softmax Regression can only be used with mutually exclusive classes (it is a multiclass model, not multioutput) \n",
    "\n",
    "\n",
    "**Cost function: cross entropy** \n",
    "\n",
    "During training, the objective is again to have a model that estimates a high probability for the target class and consequently low probabilities for the other classes. \n",
    "\n",
    "$J(\\theta)$ = $\\frac{-1}{m}$ $\\sum_{i = 1}^{m}$ $\\sum_{k = 1}^{K}$ $y_{k}^{(i)}$ $log(\\hat{p}^{(i)}_{k})$\n",
    "\n",
    " * $y_{k}^{(i)}$ = target probability that the i-th instance belongs to class k\n",
    " \n",
    "**!!** When there are only 2 classes, this cost function is equivalent to the Logistic Regression cost function. \n",
    "\n",
    "**Gradient vector of the cross entropy function**\n",
    "\n",
    "$\\nabla_{\\theta^{(k)}}J(\\theta)$ = $\\frac{1}{m}$ $\\sum_{i = 1}^{m}$ $(\\hat{p}^{(i)}_{k} - y^{(i)}_{k})x^{(i)}$\n",
    "\n",
    "**!!** By default, LogisticRegression class in sklearn uses one-vs-rest when we train it on more than two classes. To switch to Softmax Regression we need to change the hyperparameter **multi_class = \"multinomial\"** and we need to specify a solver that supports Softmax Regression such as **\"lbfgs\"**. "
   ]
  },
  {
   "cell_type": "code",
   "execution_count": 12,
   "id": "desperate-university",
   "metadata": {},
   "outputs": [
    {
     "data": {
      "text/plain": [
       "array([2])"
      ]
     },
     "execution_count": 12,
     "metadata": {},
     "output_type": "execute_result"
    }
   ],
   "source": [
    "X = iris['data'][:, (2,3)] # petal length and petal width \n",
    "y = iris['target']\n",
    "\n",
    "softmax_reg = LogisticRegression(multi_class = \"multinomial\", solver = \"lbfgs\", C = 10)\n",
    "softmax_reg.fit(X, y)\n",
    "softmax_reg.predict([[5, 2]])"
   ]
  },
  {
   "cell_type": "code",
   "execution_count": 13,
   "id": "infinite-croatia",
   "metadata": {},
   "outputs": [
    {
     "data": {
      "text/plain": [
       "array([[6.38014896e-07, 5.74929995e-02, 9.42506362e-01]])"
      ]
     },
     "execution_count": 13,
     "metadata": {},
     "output_type": "execute_result"
    }
   ],
   "source": [
    "softmax_reg.predict_proba([[5, 2]])"
   ]
  },
  {
   "cell_type": "markdown",
   "id": "offensive-newcastle",
   "metadata": {},
   "source": [
    "#### End of notebook"
   ]
  },
  {
   "cell_type": "code",
   "execution_count": null,
   "id": "loose-costume",
   "metadata": {},
   "outputs": [],
   "source": []
  }
 ],
 "metadata": {
  "kernelspec": {
   "display_name": "scanpy_env",
   "language": "python",
   "name": "scanpy_env"
  },
  "language_info": {
   "codemirror_mode": {
    "name": "ipython",
    "version": 3
   },
   "file_extension": ".py",
   "mimetype": "text/x-python",
   "name": "python",
   "nbconvert_exporter": "python",
   "pygments_lexer": "ipython3",
   "version": "3.8.8"
  }
 },
 "nbformat": 4,
 "nbformat_minor": 5
}
