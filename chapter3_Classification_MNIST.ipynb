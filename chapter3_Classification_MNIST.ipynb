{
 "cells": [
  {
   "cell_type": "markdown",
   "id": "induced-eight",
   "metadata": {},
   "source": [
    "### MNIST dataset for classification"
   ]
  },
  {
   "cell_type": "markdown",
   "id": "difficult-fellow",
   "metadata": {},
   "source": [
    "#### 1. Frame the problem \n",
    "\n",
    "MNIST dataset consists of 70,000 small images of digits handwritten by high school students and employees of the US Census Bureau. Each image is labeled with the digit it represent. The goal is to build a classifier that can learn to distinguish the digits in the dataset. "
   ]
  },
  {
   "cell_type": "code",
   "execution_count": 2,
   "id": "adaptive-night",
   "metadata": {},
   "outputs": [
    {
     "data": {
      "text/plain": [
       "dict_keys(['data', 'target', 'frame', 'feature_names', 'target_names', 'images', 'DESCR'])"
      ]
     },
     "execution_count": 2,
     "metadata": {},
     "output_type": "execute_result"
    }
   ],
   "source": [
    "from sklearn.datasets import load_digits\n",
    "mnist = load_digits() # it's pre-built in sklearn but only has 1797 images \n",
    "mnist.keys()"
   ]
  },
  {
   "cell_type": "code",
   "execution_count": 3,
   "id": "driving-poland",
   "metadata": {},
   "outputs": [
    {
     "name": "stdout",
     "output_type": "stream",
     "text": [
      "(1797, 64) (1797,)\n"
     ]
    }
   ],
   "source": [
    "X, y = mnist['data'], mnist['target']\n",
    "print(X.shape, y.shape)"
   ]
  },
  {
   "cell_type": "markdown",
   "id": "tamil-jungle",
   "metadata": {},
   "source": [
    "There are 1797 images and each image has 64 features (8x8 pixels), and each feature represents one pixel's intensity, from 0 (white) to 255 (black)."
   ]
  },
  {
   "cell_type": "code",
   "execution_count": 4,
   "id": "reasonable-honduras",
   "metadata": {},
   "outputs": [
    {
     "data": {
      "image/png": "[encoded data removed]",
      "text/plain": [
       "<Figure size 432x288 with 1 Axes>"
      ]
     },
     "metadata": {
      "needs_background": "light"
     },
     "output_type": "display_data"
    }
   ],
   "source": [
    "import matplotlib as mlp \n",
    "import matplotlib.pyplot as plt \n",
    "\n",
    "some_digit = X[0]\n",
    "some_digit_image = some_digit.reshape(8, 8)\n",
    "plt.imshow(some_digit_image, cmap = 'binary')\n",
    "plt.axis(\"off\")\n",
    "plt.show()"
   ]
  },
  {
   "cell_type": "code",
   "execution_count": 5,
   "id": "united-allowance",
   "metadata": {},
   "outputs": [
    {
     "data": {
      "text/plain": [
       "0"
      ]
     },
     "execution_count": 5,
     "metadata": {},
     "output_type": "execute_result"
    }
   ],
   "source": [
    "y[0]"
   ]
  },
  {
   "cell_type": "markdown",
   "id": "rational-payroll",
   "metadata": {},
   "source": [
    "Labels are already integers so we don't need to cast them. "
   ]
  },
  {
   "cell_type": "markdown",
   "id": "pleased-health",
   "metadata": {},
   "source": [
    "#### 2. Split in training and test set"
   ]
  },
  {
   "cell_type": "code",
   "execution_count": 6,
   "id": "stone-matter",
   "metadata": {},
   "outputs": [],
   "source": [
    "X_train, X_test, y_train, y_test = X[:1500], X[1500:], y[:1500], y[1500:] # Dataset has already been split"
   ]
  },
  {
   "cell_type": "markdown",
   "id": "sophisticated-degree",
   "metadata": {},
   "source": [
    "#### 3. Training a binary classifier"
   ]
  },
  {
   "cell_type": "markdown",
   "id": "paperback-criminal",
   "metadata": {},
   "source": [
    "Let's simplify the problem and try to identify one digit only (number 5)"
   ]
  },
  {
   "cell_type": "code",
   "execution_count": 7,
   "id": "studied-victim",
   "metadata": {},
   "outputs": [],
   "source": [
    "y_train_5 = (y_train == 5) # True for all 5s, false for all other digits \n",
    "y_test_5 = (y_test == 5)"
   ]
  },
  {
   "cell_type": "code",
   "execution_count": 8,
   "id": "flush-directive",
   "metadata": {},
   "outputs": [
    {
     "data": {
      "text/plain": [
       "SGDClassifier(random_state=1234)"
      ]
     },
     "execution_count": 8,
     "metadata": {},
     "output_type": "execute_result"
    }
   ],
   "source": [
    "from sklearn.linear_model import SGDClassifier \n",
    "sgd_clf = SGDClassifier(random_state = 1234)\n",
    "sgd_clf.fit(X_train, y_train_5)"
   ]
  },
  {
   "cell_type": "code",
   "execution_count": 9,
   "id": "amino-asset",
   "metadata": {},
   "outputs": [
    {
     "data": {
      "text/plain": [
       "array([False])"
      ]
     },
     "execution_count": 9,
     "metadata": {},
     "output_type": "execute_result"
    }
   ],
   "source": [
    "sgd_clf.predict([some_digit]) # Just checking that it does not predict the 0 as 5 "
   ]
  },
  {
   "cell_type": "markdown",
   "id": "funded-youth",
   "metadata": {},
   "source": [
    "#### 4. Performance measures"
   ]
  },
  {
   "cell_type": "markdown",
   "id": "residential-nudist",
   "metadata": {},
   "source": [
    "**Accuracy using cross validation** \n",
    "\n",
    "K-fold cross-validation means splitting the training set into K folds, then making predictions and evaluating them on each fold using a model trained on the remaining folds. "
   ]
  },
  {
   "cell_type": "code",
   "execution_count": 10,
   "id": "simple-mexican",
   "metadata": {},
   "outputs": [
    {
     "data": {
      "text/plain": [
       "array([0.98 , 0.986, 0.986])"
      ]
     },
     "execution_count": 10,
     "metadata": {},
     "output_type": "execute_result"
    }
   ],
   "source": [
    "from sklearn.model_selection import cross_val_score \n",
    "cross_val_score(sgd_clf, X_train, y_train_5, cv = 3, scoring = 'accuracy')"
   ]
  },
  {
   "cell_type": "markdown",
   "id": "corporate-edinburgh",
   "metadata": {},
   "source": [
    "!! We get extrememly high accuracy (ratio of correct predictions) on all cross validation folds, but this is probably due to the fact that we have very few instances that are labeled as 5 in the dataset. To confirm if that is the case, we can make a dumb classifier that just classifies every image as \"not 5\" to check it's accuracy: "
   ]
  },
  {
   "cell_type": "code",
   "execution_count": 11,
   "id": "collectible-tournament",
   "metadata": {},
   "outputs": [],
   "source": [
    "from sklearn.base import BaseEstimator \n",
    "import numpy as np\n",
    "class Never5Classifier(BaseEstimator):\n",
    "    def fit(self, X, y = None):\n",
    "        return self \n",
    "    def predict(self, X):\n",
    "        return np.zeros((len(X), 1), dtype = bool)"
   ]
  },
  {
   "cell_type": "code",
   "execution_count": 12,
   "id": "under-vacuum",
   "metadata": {},
   "outputs": [
    {
     "data": {
      "text/plain": [
       "array([0.9  , 0.9  , 0.896])"
      ]
     },
     "execution_count": 12,
     "metadata": {},
     "output_type": "execute_result"
    }
   ],
   "source": [
    "never_5_clf = Never5Classifier()\n",
    "cross_val_score(never_5_clf, X_train, y_train_5, cv = 3, scoring = 'accuracy')"
   ]
  },
  {
   "cell_type": "markdown",
   "id": "realistic-blanket",
   "metadata": {},
   "source": [
    "As expected, by predicting always \"not 5\" we get 90% accuracy because there are about 10% instances of 5 in the dataset"
   ]
  },
  {
   "cell_type": "markdown",
   "id": "burning-eating",
   "metadata": {},
   "source": [
    "**Confusion matrix**\n",
    "\n",
    "To compute the confusion matrix, we need to have a set of predictions so that they can be compared to the actual targets. Each row in the confusion matrix represents an actual class, while each column represents a predicted class. \n",
    "\n",
    " * first row (negative class) = considers non 5 images --> TRUE NEGATIVES, FALSE POSITIVES\n",
    " * second row (positive class) = considers images of 5 --> FALSE NEGATIVES, TRUE POSITIVES "
   ]
  },
  {
   "cell_type": "code",
   "execution_count": 13,
   "id": "fifty-operations",
   "metadata": {},
   "outputs": [],
   "source": [
    "from sklearn.model_selection import cross_val_predict \n",
    "y_train_pred = cross_val_predict(sgd_clf, X_train, y_train_5, cv = 3)"
   ]
  },
  {
   "cell_type": "code",
   "execution_count": 14,
   "id": "convenient-jurisdiction",
   "metadata": {},
   "outputs": [
    {
     "data": {
      "text/plain": [
       "array([[1339,    9],\n",
       "       [  15,  137]])"
      ]
     },
     "execution_count": 14,
     "metadata": {},
     "output_type": "execute_result"
    }
   ],
   "source": [
    "from sklearn.metrics import confusion_matrix \n",
    "confusion_matrix(y_train_5, y_train_pred)"
   ]
  },
  {
   "cell_type": "code",
   "execution_count": 15,
   "id": "graduate-volunteer",
   "metadata": {},
   "outputs": [
    {
     "data": {
      "text/plain": [
       "array([[1348,    0],\n",
       "       [   0,  152]])"
      ]
     },
     "execution_count": 15,
     "metadata": {},
     "output_type": "execute_result"
    }
   ],
   "source": [
    "y_train_perfect_prediction = y_train_5 \n",
    "confusion_matrix(y_train_5, y_train_perfect_prediction)"
   ]
  },
  {
   "cell_type": "markdown",
   "id": "immune-hollow",
   "metadata": {},
   "source": [
    "A perfect classifier would have only true positives and true negatives (and 0 off diagonal terms)"
   ]
  },
  {
   "cell_type": "markdown",
   "id": "voluntary-adaptation",
   "metadata": {},
   "source": [
    "**Important metrics that come from the confusion matrix**"
   ]
  },
  {
   "cell_type": "markdown",
   "id": "miniature-tulsa",
   "metadata": {},
   "source": [
    "#### PRECISION = True Positives / (True Positives + False Positives)\n",
    "\n",
    "Accuracy of the positive predictions"
   ]
  },
  {
   "cell_type": "markdown",
   "id": "psychological-willow",
   "metadata": {},
   "source": [
    "#### RECALL = True Positives / (True Positives + False Negatives) \n",
    "\n",
    "Ratio of positive instances correctly detected by the classifier. Also called sensitivity or true positive rate."
   ]
  },
  {
   "cell_type": "code",
   "execution_count": 16,
   "id": "compatible-ranking",
   "metadata": {},
   "outputs": [
    {
     "name": "stdout",
     "output_type": "stream",
     "text": [
      "Precision: 0.9383561643835616\n",
      "Recall: 0.9013157894736842\n"
     ]
    }
   ],
   "source": [
    "from sklearn.metrics import precision_score, recall_score \n",
    "print(\"Precision: {}\".format(precision_score(y_train_5, y_train_pred)))\n",
    "print(\"Recall: {}\".format(recall_score(y_train_5, y_train_pred)))"
   ]
  },
  {
   "cell_type": "markdown",
   "id": "internal-price",
   "metadata": {},
   "source": [
    "#### F1 SCORE = 2 * (precision * recall) / (precision + recall) \n",
    "\n",
    "F1 score is a harmonic mean of precision and recall --> favors classifiers that have similar precision and recall"
   ]
  },
  {
   "cell_type": "code",
   "execution_count": 19,
   "id": "oriented-shooting",
   "metadata": {},
   "outputs": [
    {
     "name": "stdout",
     "output_type": "stream",
     "text": [
      "F1 score: 0.9194630872483222\n"
     ]
    }
   ],
   "source": [
    "from sklearn.metrics import f1_score\n",
    "print(\"F1 score: {}\".format(f1_score(y_train_5, y_train_pred)))"
   ]
  },
  {
   "cell_type": "markdown",
   "id": "metallic-rating",
   "metadata": {},
   "source": [
    "#### Precision/Recall trade-off\n",
    "\n",
    "Increasing precision reduces recall and viceversa. \n",
    "Working example: for each instance, SGDClassifier computes a score based on a decision function. If the score is greater than a threshold, it assigns the instance to the positive class; otherwise it assigns it to the negative class. With sklearn, we cannot set the threshold directly but we can access the decision scores used to make the prediction by calling the decision_function() method"
   ]
  },
  {
   "cell_type": "code",
   "execution_count": 21,
   "id": "owned-pattern",
   "metadata": {},
   "outputs": [
    {
     "data": {
      "text/plain": [
       "array([-1974.84813408])"
      ]
     },
     "execution_count": 21,
     "metadata": {},
     "output_type": "execute_result"
    }
   ],
   "source": [
    "y_scores = sgd_clf.decision_function([some_digit])\n",
    "y_scores"
   ]
  },
  {
   "cell_type": "code",
   "execution_count": 23,
   "id": "pursuant-boxing",
   "metadata": {},
   "outputs": [
    {
     "data": {
      "text/plain": [
       "array([False])"
      ]
     },
     "execution_count": 23,
     "metadata": {},
     "output_type": "execute_result"
    }
   ],
   "source": [
    "threshold = 0\n",
    "y_some_digit_pred = (y_scores > threshold)\n",
    "y_some_digit_pred"
   ]
  },
  {
   "cell_type": "markdown",
   "id": "rocky-stephen",
   "metadata": {},
   "source": [
    "Raising the threshold decreases recall!"
   ]
  },
  {
   "cell_type": "code",
   "execution_count": 24,
   "id": "optical-unknown",
   "metadata": {},
   "outputs": [],
   "source": [
    "y_scores = cross_val_predict(sgd_clf, X_train, y_train_5, cv = 3, method = \"decision_function\")"
   ]
  },
  {
   "cell_type": "code",
   "execution_count": 25,
   "id": "ignored-stamp",
   "metadata": {},
   "outputs": [],
   "source": [
    "from sklearn.metrics import precision_recall_curve \n",
    "precisions, recalls, thresholds = precision_recall_curve(y_train_5, y_scores)"
   ]
  },
  {
   "cell_type": "code",
   "execution_count": 27,
   "id": "necessary-wichita",
   "metadata": {},
   "outputs": [
    {
     "data": {
      "text/plain": [
       "<function matplotlib.pyplot.show(close=None, block=None)>"
      ]
     },
     "execution_count": 27,
     "metadata": {},
     "output_type": "execute_result"
    },
    {
     "data": {
      "image/png": "[encoded data removed]",
      "text/plain": [
       "<Figure size 432x288 with 1 Axes>"
      ]
     },
     "metadata": {
      "needs_background": "light"
     },
     "output_type": "display_data"
    }
   ],
   "source": [
    "def plot_precision_recall_vs_threshold(precisions, recalls, thresholds):\n",
    "    plt.plot(thresholds, precisions[:-1], \"b--\", label = \"Precision\")\n",
    "    plt.plot(thresholds, recalls[:-1], \"g--\", label = \"Recall\")\n",
    "    \n",
    "plot_precision_recall_vs_threshold(precisions, recalls, thresholds)\n",
    "plt.show"
   ]
  },
  {
   "cell_type": "markdown",
   "id": "collected-amber",
   "metadata": {},
   "source": [
    "To decide what threshold to use we can:\n",
    " * plot precision and recall versus the decision threshold\n",
    " * plot precision directly against recall\n",
    " * plot the **receiver operating characteristic (ROC) curve** : plots the true positive rate (recall) against false positive rate (1 - specificity)"
   ]
  },
  {
   "cell_type": "code",
   "execution_count": 28,
   "id": "disabled-volleyball",
   "metadata": {},
   "outputs": [],
   "source": [
    "from sklearn.metrics import roc_curve\n",
    "fpr, tpr, thresholds = roc_curve(y_train_5, y_scores)"
   ]
  },
  {
   "cell_type": "code",
   "execution_count": 29,
   "id": "treated-trader",
   "metadata": {},
   "outputs": [
    {
     "data": {
      "image/png": "[encoded data removed]",
      "text/plain": [
       "<Figure size 432x288 with 1 Axes>"
      ]
     },
     "metadata": {
      "needs_background": "light"
     },
     "output_type": "display_data"
    }
   ],
   "source": [
    "def plot_roc_curve(fpr, tpr, label = None):\n",
    "    plt.plot(fpr, tpr, linewidth = 2, label = label)\n",
    "    plt.plot([0, 1], [0, 1], \"k--\")\n",
    "    \n",
    "plot_roc_curve(fpr, tpr)\n",
    "plt.show()"
   ]
  },
  {
   "cell_type": "markdown",
   "id": "russian-depth",
   "metadata": {},
   "source": [
    "Alternatively, from the ROC curve we can measure the area under the curve (AUC), which will be equal to 1 if the classifier has perfect performance or equal to 0.5 if it is purely random."
   ]
  },
  {
   "cell_type": "code",
   "execution_count": 32,
   "id": "minimal-penguin",
   "metadata": {},
   "outputs": [
    {
     "data": {
      "text/plain": [
       "0.9900388489770422"
      ]
     },
     "execution_count": 32,
     "metadata": {},
     "output_type": "execute_result"
    }
   ],
   "source": [
    "from sklearn.metrics import roc_auc_score\n",
    "roc_auc_score(y_train_5, y_scores)"
   ]
  },
  {
   "cell_type": "markdown",
   "id": "several-feelings",
   "metadata": {},
   "source": [
    "**Note:**\n",
    "\n",
    "As a rule of thumb, we should prefer the precision recall curve when the positive class is rare (as in this case) or when we care more about the false positive than the false negatives. Otherwise, use the ROC curve. "
   ]
  },
  {
   "cell_type": "code",
   "execution_count": 33,
   "id": "heard-running",
   "metadata": {},
   "outputs": [
    {
     "data": {
      "image/png": "[encoded data removed]",
      "text/plain": [
       "<Figure size 432x288 with 1 Axes>"
      ]
     },
     "metadata": {
      "needs_background": "light"
     },
     "output_type": "display_data"
    }
   ],
   "source": [
    "from sklearn.ensemble import RandomForestClassifier \n",
    "forest_clf = RandomForestClassifier(random_state = 42)\n",
    "y_probas_forest = cross_val_predict(forest_clf, X_train, y_train_5, cv = 3, \n",
    "                                    method = \"predict_proba\")\n",
    "y_scores_forest = y_probas_forest[:, 1]\n",
    "fpr_forest, tpr_forest, thresholds_forest = roc_curve(y_train_5, y_scores_forest)\n",
    "plt.plot(fpr, tpr, \"b:\", label = \"SGD\")\n",
    "plot_roc_curve(fpr_forest, tpr_forest, \"Random Forest\")\n",
    "plt.legend(loc = 'lower right')\n",
    "plt.show()"
   ]
  },
  {
   "cell_type": "markdown",
   "id": "internal-burst",
   "metadata": {},
   "source": [
    "#### 5. Multiclass classification"
   ]
  },
  {
   "cell_type": "markdown",
   "id": "express-today",
   "metadata": {},
   "source": [
    "Multiclass (or multinomial) classifiers can distinguish between more than two classes and can be adapted from binary classifiers in two ways: \n",
    " \n",
    " 1. **one-versus-rest strategy**: N classifiers total if there are N classes \n",
    " 2. **one-versus-one strategy**: N * (N -1) / 2 classifiers total if there are N classes, but each classifier needs to be trained only on the part of the training set that contains the two classes that it must distinguish "
   ]
  },
  {
   "cell_type": "code",
   "execution_count": 34,
   "id": "sustained-coffee",
   "metadata": {},
   "outputs": [
    {
     "data": {
      "text/plain": [
       "array([0])"
      ]
     },
     "execution_count": 34,
     "metadata": {},
     "output_type": "execute_result"
    }
   ],
   "source": [
    "from sklearn.svm import SVC \n",
    "svm_clf = SVC()\n",
    "svm_clf.fit(X_train, y_train)\n",
    "svm_clf.predict([some_digit])"
   ]
  },
  {
   "cell_type": "code",
   "execution_count": 35,
   "id": "bizarre-great",
   "metadata": {},
   "outputs": [
    {
     "data": {
      "text/plain": [
       "array([[ 9.30959478, -0.29306863,  0.74803505,  4.80549668,  1.75678185,\n",
       "         8.22976148,  3.808629  ,  2.75925812,  5.96703976,  7.25531897]])"
      ]
     },
     "execution_count": 35,
     "metadata": {},
     "output_type": "execute_result"
    }
   ],
   "source": [
    "some_digit_scores = svm_clf.decision_function([some_digit])\n",
    "some_digit_scores"
   ]
  },
  {
   "cell_type": "code",
   "execution_count": 36,
   "id": "severe-socket",
   "metadata": {},
   "outputs": [
    {
     "data": {
      "text/plain": [
       "0"
      ]
     },
     "execution_count": 36,
     "metadata": {},
     "output_type": "execute_result"
    }
   ],
   "source": [
    "np.argmax(some_digit_scores)"
   ]
  },
  {
   "cell_type": "code",
   "execution_count": 37,
   "id": "decreased-partnership",
   "metadata": {},
   "outputs": [
    {
     "data": {
      "text/plain": [
       "array([0, 1, 2, 3, 4, 5, 6, 7, 8, 9])"
      ]
     },
     "execution_count": 37,
     "metadata": {},
     "output_type": "execute_result"
    }
   ],
   "source": [
    "svm_clf.classes_"
   ]
  },
  {
   "cell_type": "markdown",
   "id": "convenient-charlotte",
   "metadata": {},
   "source": [
    "If we want to force sklearn to use one-versus-one or one-versus-rest, we can use the *OneVsOneClassifier* or the *OneVsRestClassifier* classes. "
   ]
  },
  {
   "cell_type": "code",
   "execution_count": 38,
   "id": "rapid-defendant",
   "metadata": {},
   "outputs": [
    {
     "data": {
      "text/plain": [
       "OneVsRestClassifier(estimator=SVC())"
      ]
     },
     "execution_count": 38,
     "metadata": {},
     "output_type": "execute_result"
    }
   ],
   "source": [
    "from sklearn.multiclass import OneVsRestClassifier \n",
    "ovr_clf = OneVsRestClassifier(SVC())\n",
    "ovr_clf.fit(X_train, y_train)"
   ]
  },
  {
   "cell_type": "code",
   "execution_count": 39,
   "id": "piano-client",
   "metadata": {},
   "outputs": [
    {
     "data": {
      "text/plain": [
       "array([0])"
      ]
     },
     "execution_count": 39,
     "metadata": {},
     "output_type": "execute_result"
    }
   ],
   "source": [
    "ovr_clf.predict([some_digit])"
   ]
  },
  {
   "cell_type": "code",
   "execution_count": 41,
   "id": "artistic-glance",
   "metadata": {},
   "outputs": [
    {
     "data": {
      "text/plain": [
       "10"
      ]
     },
     "execution_count": 41,
     "metadata": {},
     "output_type": "execute_result"
    }
   ],
   "source": [
    "len(ovr_clf.estimators_) # it has built 10 classifiers (number of classes)"
   ]
  },
  {
   "cell_type": "code",
   "execution_count": 42,
   "id": "alpha-methodology",
   "metadata": {},
   "outputs": [
    {
     "data": {
      "text/plain": [
       "array([0])"
      ]
     },
     "execution_count": 42,
     "metadata": {},
     "output_type": "execute_result"
    }
   ],
   "source": [
    "# Same with SGDClassifier \n",
    "sgd_clf.fit(X_train, y_train)\n",
    "sgd_clf.predict([some_digit])"
   ]
  },
  {
   "cell_type": "code",
   "execution_count": 43,
   "id": "advisory-temperature",
   "metadata": {},
   "outputs": [
    {
     "data": {
      "text/plain": [
       "array([[ 2905.03165742, -4528.68564663, -3129.53999747, -1338.93647228,\n",
       "        -2066.42354718, -1673.88837471, -3807.15079461, -1955.16152804,\n",
       "        -1166.17198619, -1044.95144976]])"
      ]
     },
     "execution_count": 43,
     "metadata": {},
     "output_type": "execute_result"
    }
   ],
   "source": [
    "sgd_clf.decision_function([some_digit])"
   ]
  },
  {
   "cell_type": "code",
   "execution_count": 44,
   "id": "focal-devices",
   "metadata": {},
   "outputs": [
    {
     "data": {
      "text/plain": [
       "array([0.892, 0.896, 0.934])"
      ]
     },
     "execution_count": 44,
     "metadata": {},
     "output_type": "execute_result"
    }
   ],
   "source": [
    "cross_val_score(sgd_clf, X_train, y_train, cv = 3, scoring = \"accuracy\")"
   ]
  },
  {
   "cell_type": "code",
   "execution_count": 45,
   "id": "bacterial-broad",
   "metadata": {},
   "outputs": [
    {
     "data": {
      "text/plain": [
       "array([0.896, 0.886, 0.956])"
      ]
     },
     "execution_count": 45,
     "metadata": {},
     "output_type": "execute_result"
    }
   ],
   "source": [
    "#Scale the inputs to increase accuracy \n",
    "from sklearn.preprocessing import StandardScaler \n",
    "scaler = StandardScaler()\n",
    "X_train_scaled = scaler.fit_transform(X_train.astype(float))\n",
    "cross_val_score(sgd_clf, X_train_scaled, y_train, cv = 3, scoring = \"accuracy\")"
   ]
  },
  {
   "cell_type": "markdown",
   "id": "confused-faculty",
   "metadata": {},
   "source": [
    "#### 6. Error Analysis"
   ]
  },
  {
   "cell_type": "code",
   "execution_count": 46,
   "id": "engaged-japanese",
   "metadata": {},
   "outputs": [
    {
     "data": {
      "text/plain": [
       "array([[151,   0,   0,   0,   0,   0,   0,   0,   0,   0],\n",
       "       [  0, 145,   1,   0,   1,   0,   2,   0,   2,   0],\n",
       "       [  0,   1, 137,   1,   3,   0,   0,   1,   7,   0],\n",
       "       [  0,   0,   2, 143,   2,   0,   0,   1,   4,   1],\n",
       "       [  0,   0,   0,   0, 145,   0,   0,   2,   0,   1],\n",
       "       [  0,   0,   0,   1,   0, 147,   1,   0,   1,   2],\n",
       "       [  0,   1,   0,   0,   6,   0, 144,   0,   0,   0],\n",
       "       [  0,   0,   0,   0,   5,   0,   0, 143,   0,   1],\n",
       "       [  0,   7,   0,   0,   3,   1,   0,   0, 134,   1],\n",
       "       [  0,   4,   0,   0,   3,   0,   0,   6,   3, 133]])"
      ]
     },
     "execution_count": 46,
     "metadata": {},
     "output_type": "execute_result"
    }
   ],
   "source": [
    "y_train_pred = cross_val_predict(svm_clf, X_train_scaled, y_train, cv = 3)\n",
    "conf_mx = confusion_matrix(y_train, y_train_pred)\n",
    "conf_mx"
   ]
  },
  {
   "cell_type": "code",
   "execution_count": 47,
   "id": "greatest-mambo",
   "metadata": {},
   "outputs": [
    {
     "data": {
      "text/plain": [
       "<matplotlib.image.AxesImage at 0x7f720374ec10>"
      ]
     },
     "execution_count": 47,
     "metadata": {},
     "output_type": "execute_result"
    },
    {
     "data": {
      "image/png": "[encoded data removed]",
      "text/plain": [
       "<Figure size 288x288 with 1 Axes>"
      ]
     },
     "metadata": {
      "needs_background": "light"
     },
     "output_type": "display_data"
    }
   ],
   "source": [
    "plt.matshow(conf_mx, cmap = plt.cm.gray)"
   ]
  },
  {
   "cell_type": "markdown",
   "id": "pediatric-services",
   "metadata": {},
   "source": [
    "To plot the errors:\n",
    " \n",
    " 1. Divide each value in the confusion matrix by the number of images in the corresponding class so that we can compar error rates instead of number of errors.\n",
    " 2. Fill in the diagonal with 0s to keep only the errors."
   ]
  },
  {
   "cell_type": "code",
   "execution_count": 48,
   "id": "casual-telling",
   "metadata": {},
   "outputs": [],
   "source": [
    "row_sums = conf_mx.sum(axis = 1, keepdims = True)\n",
    "norm_conf_mx = conf_mx / row_sums"
   ]
  },
  {
   "cell_type": "code",
   "execution_count": 49,
   "id": "extra-omega",
   "metadata": {},
   "outputs": [
    {
     "data": {
      "text/plain": [
       "<matplotlib.image.AxesImage at 0x7f720371ff40>"
      ]
     },
     "execution_count": 49,
     "metadata": {},
     "output_type": "execute_result"
    },
    {
     "data": {
      "image/png": "[encoded data removed]",
      "text/plain": [
       "<Figure size 288x288 with 1 Axes>"
      ]
     },
     "metadata": {
      "needs_background": "light"
     },
     "output_type": "display_data"
    }
   ],
   "source": [
    "np.fill_diagonal(norm_conf_mx, 0)\n",
    "plt.matshow(norm_conf_mx, cmap = plt.cm.gray)"
   ]
  },
  {
   "cell_type": "markdown",
   "id": "greatest-burton",
   "metadata": {},
   "source": [
    "!! Analyzing individual errors can be a good way of gaining insights on what the classifier is doing and why it is failing."
   ]
  },
  {
   "cell_type": "markdown",
   "id": "compound-potter",
   "metadata": {},
   "source": [
    "#### 7. Multilabel classification"
   ]
  },
  {
   "cell_type": "markdown",
   "id": "geographic-white",
   "metadata": {},
   "source": [
    "If we want the classifier to output multiple classes for the same instance. Example: tell if a number in MNIST is both large and odd. "
   ]
  },
  {
   "cell_type": "code",
   "execution_count": 50,
   "id": "cutting-latitude",
   "metadata": {},
   "outputs": [
    {
     "data": {
      "text/plain": [
       "KNeighborsClassifier()"
      ]
     },
     "execution_count": 50,
     "metadata": {},
     "output_type": "execute_result"
    }
   ],
   "source": [
    "from sklearn.neighbors import KNeighborsClassifier\n",
    "y_train_large = (y_train >= 7)\n",
    "y_train_odd = (y_train % 2 == 1)\n",
    "y_multilabel = np.c_[y_train_large, y_train_odd] # multilabel array\n",
    "\n",
    "knn_clf = KNeighborsClassifier()\n",
    "knn_clf.fit(X_train, y_multilabel)"
   ]
  },
  {
   "cell_type": "code",
   "execution_count": 51,
   "id": "surface-validation",
   "metadata": {},
   "outputs": [
    {
     "data": {
      "text/plain": [
       "array([[False, False]])"
      ]
     },
     "execution_count": 51,
     "metadata": {},
     "output_type": "execute_result"
    }
   ],
   "source": [
    "knn_clf.predict([some_digit])"
   ]
  },
  {
   "cell_type": "markdown",
   "id": "negative-irrigation",
   "metadata": {},
   "source": [
    "To evaluate a multilabel classifier we can measure the F1 score for each individual label and then compute the average score."
   ]
  },
  {
   "cell_type": "code",
   "execution_count": 52,
   "id": "legal-confusion",
   "metadata": {},
   "outputs": [
    {
     "data": {
      "text/plain": [
       "0.951371327508381"
      ]
     },
     "execution_count": 52,
     "metadata": {},
     "output_type": "execute_result"
    }
   ],
   "source": [
    "y_train_knn_pred = cross_val_predict(knn_clf, X_train, y_multilabel, cv = 3 )\n",
    "f1_score(y_multilabel, y_train_knn_pred, average = \"macro\")"
   ]
  },
  {
   "cell_type": "markdown",
   "id": "found-injection",
   "metadata": {},
   "source": [
    " * average = **macro** --> assumes all labels are equally important \n",
    "\n",
    " * average = **weighted** --> gives each label a weight equal to its support (the number of instances with that target label)"
   ]
  },
  {
   "cell_type": "markdown",
   "id": "buried-commitment",
   "metadata": {},
   "source": [
    "#### 8. Multioutput classification"
   ]
  },
  {
   "cell_type": "markdown",
   "id": "settled-mustang",
   "metadata": {},
   "source": [
    "Generalization of multilabel classification where each label can be multiclass.\n",
    "Example: build a classifier that removes noise from images. Takes a noise digit image and ouputs a clean digit image, represented as an array of pixel intensities (multilabel = one label per pixel, multiclass = pixel intensity ranges from 0 to 255)."
   ]
  },
  {
   "cell_type": "code",
   "execution_count": 53,
   "id": "similar-explorer",
   "metadata": {},
   "outputs": [],
   "source": [
    "noise = np.random.randint(0, 100, (len(X_train), 64))\n",
    "X_train_mod = X_train + noise \n",
    "noise = np.random.randint(0, 100, (len(X_test), 64))\n",
    "X_test_mod = X_test + noise \n",
    "y_train_mod = X_train \n",
    "y_test_mod = X_test"
   ]
  },
  {
   "cell_type": "code",
   "execution_count": 55,
   "id": "healthy-civilian",
   "metadata": {},
   "outputs": [],
   "source": [
    "knn_clf.fit(X_train_mod, y_train_mod)\n",
    "some_index = 3\n",
    "clean_digit = knn_clf.predict([X_test_mod[some_index]])"
   ]
  },
  {
   "cell_type": "markdown",
   "id": "efficient-emperor",
   "metadata": {},
   "source": [
    "#### End of notebook"
   ]
  },
  {
   "cell_type": "code",
   "execution_count": null,
   "id": "central-radical",
   "metadata": {},
   "outputs": [],
   "source": []
  }
 ],
 "metadata": {
  "kernelspec": {
   "display_name": "scanpy_env",
   "language": "python",
   "name": "scanpy_env"
  },
  "language_info": {
   "codemirror_mode": {
    "name": "ipython",
    "version": 3
   },
   "file_extension": ".py",
   "mimetype": "text/x-python",
   "name": "python",
   "nbconvert_exporter": "python",
   "pygments_lexer": "ipython3",
   "version": "3.8.8"
  }
 },
 "nbformat": 4,
 "nbformat_minor": 5
}
