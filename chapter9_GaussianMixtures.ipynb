{
 "cells": [
  {
   "cell_type": "markdown",
   "id": "compatible-child",
   "metadata": {},
   "source": [
    "### Gaussian Mxiture Models \n",
    "\n",
    "= probabilistic model that assumes that the instances were generated from a mixture of several Gaussian distributions whose parameters are unknown. All instances generated from a single Gaussian distribution form a cluster with an ellipsoid shape. \n",
    "\n",
    "Dataset X is assumed to have been generated through a probabilistic process: \n",
    " * For each instance, a cluster is picked randomly from among k clusters. The probability of choosing the $j^{(th)}$ cluster is defined by the cluster's weight $\\phi^{(i)}$. The index of the cluster chosen for the $i^{(th)}$ instance is noted $z^{(i)}$\n",
    " * If $z^{(i)}$ = $j$ --> the $i^{(th)}$ instance has been assigned to the $j^{(th)}$ cluster and the location $x^{(i)}$ of this instance is sampled randomly from the Gaussian distribution with mean $\\mu^{(j)}$ and covariance matrix $\\Sigma^{(j)}$."
   ]
  },
  {
   "cell_type": "code",
   "execution_count": 1,
   "id": "structured-particle",
   "metadata": {},
   "outputs": [],
   "source": [
    "from sklearn.datasets import load_iris \n",
    "\n",
    "iris = load_iris()\n",
    "X = iris.data\n",
    "y = iris.target\n"
   ]
  },
  {
   "cell_type": "code",
   "execution_count": 2,
   "id": "complicated-champion",
   "metadata": {},
   "outputs": [
    {
     "data": {
      "text/plain": [
       "GaussianMixture(n_components=3, n_init=10)"
      ]
     },
     "execution_count": 2,
     "metadata": {},
     "output_type": "execute_result"
    }
   ],
   "source": [
    "from sklearn.mixture import GaussianMixture \n",
    "\n",
    "gm = GaussianMixture(n_components = 3, n_init = 10)\n",
    "gm.fit(X)"
   ]
  },
  {
   "cell_type": "code",
   "execution_count": 3,
   "id": "coordinated-jersey",
   "metadata": {},
   "outputs": [
    {
     "data": {
      "text/plain": [
       "array([0.36548058, 0.33333333, 0.30118609])"
      ]
     },
     "execution_count": 3,
     "metadata": {},
     "output_type": "execute_result"
    }
   ],
   "source": [
    "gm.weights_"
   ]
  },
  {
   "cell_type": "code",
   "execution_count": 4,
   "id": "creative-penetration",
   "metadata": {},
   "outputs": [
    {
     "data": {
      "text/plain": [
       "array([[6.54632887, 2.94943079, 5.4834877 , 1.98716063],\n",
       "       [5.006     , 3.428     , 1.462     , 0.246     ],\n",
       "       [5.91697517, 2.77803998, 4.20523542, 1.29841561]])"
      ]
     },
     "execution_count": 4,
     "metadata": {},
     "output_type": "execute_result"
    }
   ],
   "source": [
    "gm.means_"
   ]
  },
  {
   "cell_type": "code",
   "execution_count": 5,
   "id": "radio-boutique",
   "metadata": {},
   "outputs": [
    {
     "data": {
      "text/plain": [
       "array([[[0.38741443, 0.09223101, 0.30244612, 0.06089936],\n",
       "        [0.09223101, 0.11040631, 0.08386768, 0.0557538 ],\n",
       "        [0.30244612, 0.08386768, 0.32595958, 0.07283247],\n",
       "        [0.06089936, 0.0557538 , 0.07283247, 0.08488025]],\n",
       "\n",
       "       [[0.121765  , 0.097232  , 0.016028  , 0.010124  ],\n",
       "        [0.097232  , 0.140817  , 0.011464  , 0.009112  ],\n",
       "        [0.016028  , 0.011464  , 0.029557  , 0.005948  ],\n",
       "        [0.010124  , 0.009112  , 0.005948  , 0.010885  ]],\n",
       "\n",
       "       [[0.27550587, 0.09663458, 0.18542939, 0.05476915],\n",
       "        [0.09663458, 0.09255531, 0.09103836, 0.04299877],\n",
       "        [0.18542939, 0.09103836, 0.20227635, 0.0616792 ],\n",
       "        [0.05476915, 0.04299877, 0.0616792 , 0.03232217]]])"
      ]
     },
     "execution_count": 5,
     "metadata": {},
     "output_type": "execute_result"
    }
   ],
   "source": [
    "gm.covariances_"
   ]
  },
  {
   "cell_type": "markdown",
   "id": "afraid-watch",
   "metadata": {},
   "source": [
    "The weights, means and covariances are computed using Expectation-Maximization: \n",
    " * Initialize the cluster parameters randomly (**expectation**) \n",
    " * Update the clusters (**maximization**) \n",
    " \n",
    "--> generalization of K-Means that not only finds the cluster centers $\\mu^{(1)}$ to $\\mu^{(k)}$, but also their size, shape and orientation (specified by the covariance matrices $\\Sigma^{(1)}$ to $\\Sigma^{(k)}$) as well as their relative weights $\\phi^{(1)}$ to $\\phi^{(k)}$. \n",
    "\n",
    "Uses soft cluster assignments: \n",
    " * during the expectation step, the algorithm estimates the probability that the instance belongs to each cluster \n",
    " * during the maximization step, each cluster is updated using all the instances in the dataset, with each instance weighted by the estimated probability that it belongs to that cluster. \n",
    " \n",
    "Probabilities are called **responsibilities** of the clusters for the instances. \n",
    "\n",
    "**!** Like K-Means, EM can converge to local optima, so it needs to be run several times (set *n_init* hyperparamenter to at least 10 because the default is actually 1) "
   ]
  },
  {
   "cell_type": "code",
   "execution_count": 6,
   "id": "close-mineral",
   "metadata": {},
   "outputs": [
    {
     "data": {
      "text/plain": [
       "True"
      ]
     },
     "execution_count": 6,
     "metadata": {},
     "output_type": "execute_result"
    }
   ],
   "source": [
    "gm.converged_"
   ]
  },
  {
   "cell_type": "code",
   "execution_count": 7,
   "id": "express-error",
   "metadata": {},
   "outputs": [
    {
     "data": {
      "text/plain": [
       "17"
      ]
     },
     "execution_count": 7,
     "metadata": {},
     "output_type": "execute_result"
    }
   ],
   "source": [
    "gm.n_iter_"
   ]
  },
  {
   "cell_type": "code",
   "execution_count": 8,
   "id": "armed-latino",
   "metadata": {},
   "outputs": [
    {
     "data": {
      "text/plain": [
       "array([1, 1, 1, 1, 1, 1, 1, 1, 1, 1, 1, 1, 1, 1, 1, 1, 1, 1, 1, 1, 1, 1,\n",
       "       1, 1, 1, 1, 1, 1, 1, 1, 1, 1, 1, 1, 1, 1, 1, 1, 1, 1, 1, 1, 1, 1,\n",
       "       1, 1, 1, 1, 1, 1, 2, 2, 2, 2, 2, 2, 2, 2, 2, 2, 2, 2, 2, 2, 2, 2,\n",
       "       2, 2, 0, 2, 0, 2, 0, 2, 2, 2, 2, 0, 2, 2, 2, 2, 2, 0, 2, 2, 2, 2,\n",
       "       2, 2, 2, 2, 2, 2, 2, 2, 2, 2, 2, 2, 0, 0, 0, 0, 0, 0, 0, 0, 0, 0,\n",
       "       0, 0, 0, 0, 0, 0, 0, 0, 0, 0, 0, 0, 0, 0, 0, 0, 0, 0, 0, 0, 0, 0,\n",
       "       0, 0, 0, 0, 0, 0, 0, 0, 0, 0, 0, 0, 0, 0, 0, 0, 0, 0])"
      ]
     },
     "execution_count": 8,
     "metadata": {},
     "output_type": "execute_result"
    }
   ],
   "source": [
    "gm.predict(X)"
   ]
  },
  {
   "cell_type": "code",
   "execution_count": 9,
   "id": "amber-group",
   "metadata": {},
   "outputs": [
    {
     "data": {
      "text/plain": [
       "array([[6.39829159e-035, 1.00000000e+000, 9.06516804e-044],\n",
       "       [2.59954184e-028, 1.00000000e+000, 8.53836828e-031],\n",
       "       [4.21198692e-030, 1.00000000e+000, 9.37295905e-036],\n",
       "       [2.71194113e-026, 1.00000000e+000, 1.46701195e-031],\n",
       "       [2.68318787e-035, 1.00000000e+000, 3.36751068e-046],\n",
       "       [3.36012794e-035, 1.00000000e+000, 8.48608974e-045],\n",
       "       [6.26078635e-029, 1.00000000e+000, 8.60802283e-036],\n",
       "       [6.24083932e-032, 1.00000000e+000, 5.91440044e-040],\n",
       "       [2.73560964e-024, 1.00000000e+000, 2.15420817e-027],\n",
       "       [9.44427381e-029, 1.00000000e+000, 1.98301504e-035],\n",
       "       [6.19144802e-038, 1.00000000e+000, 3.71910256e-049],\n",
       "       [3.03045219e-029, 1.00000000e+000, 1.87444991e-038],\n",
       "       [2.07458621e-028, 1.00000000e+000, 1.18922833e-033],\n",
       "       [7.36953464e-028, 1.00000000e+000, 4.60969420e-034],\n",
       "       [3.91524413e-048, 1.00000000e+000, 4.30870613e-062],\n",
       "       [1.43839472e-046, 1.00000000e+000, 2.57581224e-063],\n",
       "       [3.26910339e-040, 1.00000000e+000, 4.22325633e-049],\n",
       "       [7.75360067e-034, 1.00000000e+000, 3.50217611e-040],\n",
       "       [4.40969728e-037, 1.00000000e+000, 1.69764390e-046],\n",
       "       [6.76277830e-036, 1.00000000e+000, 3.12896306e-047],\n",
       "       [2.96537349e-031, 1.00000000e+000, 2.07084937e-038],\n",
       "       [2.35221473e-033, 1.00000000e+000, 1.26427351e-040],\n",
       "       [2.32578057e-035, 1.00000000e+000, 5.63687445e-047],\n",
       "       [6.46012312e-025, 1.00000000e+000, 1.96369442e-025],\n",
       "       [1.25123702e-024, 1.00000000e+000, 3.76535380e-035],\n",
       "       [2.71998825e-026, 1.00000000e+000, 4.51922102e-029],\n",
       "       [2.84131646e-028, 1.00000000e+000, 6.51756681e-032],\n",
       "       [2.61299718e-034, 1.00000000e+000, 4.50051258e-043],\n",
       "       [2.06601686e-034, 1.00000000e+000, 2.70757132e-041],\n",
       "       [1.25089983e-026, 1.00000000e+000, 2.93196816e-033],\n",
       "       [2.74646598e-026, 1.00000000e+000, 3.87903068e-031],\n",
       "       [5.10725018e-032, 1.00000000e+000, 5.47501493e-034],\n",
       "       [5.77271732e-042, 1.00000000e+000, 3.34830795e-065],\n",
       "       [3.00615596e-046, 1.00000000e+000, 4.54179965e-066],\n",
       "       [3.67628819e-028, 1.00000000e+000, 2.87712045e-032],\n",
       "       [4.52094501e-033, 1.00000000e+000, 2.68955897e-037],\n",
       "       [1.74061685e-038, 1.00000000e+000, 2.14032656e-045],\n",
       "       [2.62588829e-035, 1.00000000e+000, 1.05153638e-049],\n",
       "       [4.32286025e-026, 1.00000000e+000, 3.51186220e-030],\n",
       "       [1.46115623e-032, 1.00000000e+000, 3.54136768e-040],\n",
       "       [3.70136929e-034, 1.00000000e+000, 1.07517355e-040],\n",
       "       [1.18999311e-019, 1.00000000e+000, 7.35669202e-015],\n",
       "       [9.67271992e-028, 1.00000000e+000, 1.40008694e-034],\n",
       "       [2.27531361e-025, 1.00000000e+000, 5.03870486e-027],\n",
       "       [1.08777823e-028, 1.00000000e+000, 1.72537998e-038],\n",
       "       [1.02920803e-026, 1.00000000e+000, 1.31569387e-027],\n",
       "       [1.25255388e-035, 1.00000000e+000, 2.77258918e-050],\n",
       "       [2.45675950e-028, 1.00000000e+000, 1.12833715e-034],\n",
       "       [2.69315506e-037, 1.00000000e+000, 6.02687750e-049],\n",
       "       [4.47083794e-032, 1.00000000e+000, 2.85269596e-038],\n",
       "       [2.43034683e-004, 3.10247530e-092, 9.99756965e-001],\n",
       "       [1.24152602e-003, 1.16773970e-083, 9.98758474e-001],\n",
       "       [4.98317877e-003, 1.80186916e-104, 9.95016821e-001],\n",
       "       [6.05988640e-002, 1.07955186e-063, 9.39401136e-001],\n",
       "       [2.59644291e-002, 4.71544734e-092, 9.74035571e-001],\n",
       "       [2.93815958e-002, 2.97163049e-079, 9.70618404e-001],\n",
       "       [1.25060949e-002, 8.61342317e-094, 9.87493905e-001],\n",
       "       [1.32176940e-004, 3.78055551e-034, 9.99867823e-001],\n",
       "       [1.22921324e-003, 1.35670978e-086, 9.98770787e-001],\n",
       "       [3.06039822e-002, 1.75145999e-060, 9.69396018e-001],\n",
       "       [1.60140326e-003, 3.04826297e-042, 9.98398597e-001],\n",
       "       [6.54671255e-003, 1.64276759e-072, 9.93453287e-001],\n",
       "       [7.37529214e-004, 4.10455753e-061, 9.99262471e-001],\n",
       "       [3.05724702e-002, 1.01190167e-090, 9.69427530e-001],\n",
       "       [1.69686561e-004, 7.61466486e-047, 9.99830313e-001],\n",
       "       [1.06787197e-004, 3.10904212e-079, 9.99893213e-001],\n",
       "       [7.11753683e-002, 1.48696556e-083, 9.28824632e-001],\n",
       "       [2.84665774e-003, 8.80986746e-058, 9.97153342e-001],\n",
       "       [9.96143916e-001, 4.15173178e-092, 3.85608358e-003],\n",
       "       [4.36884913e-004, 7.33640942e-055, 9.99563115e-001],\n",
       "       [9.40219508e-001, 7.90464838e-106, 5.97804922e-002],\n",
       "       [1.34484090e-004, 3.90562988e-062, 9.99865516e-001],\n",
       "       [9.48411479e-001, 4.87215226e-107, 5.15885214e-002],\n",
       "       [7.98155537e-002, 3.48060404e-086, 9.20184446e-001],\n",
       "       [1.89653887e-004, 1.84746205e-073, 9.99810346e-001],\n",
       "       [2.41407862e-004, 6.71751422e-080, 9.99758592e-001],\n",
       "       [1.07155607e-002, 3.71319682e-100, 9.89284439e-001],\n",
       "       [6.29426828e-001, 1.25589439e-114, 3.70573172e-001],\n",
       "       [3.24051697e-002, 4.78140666e-085, 9.67594830e-001],\n",
       "       [1.05570953e-005, 2.46740363e-039, 9.99989443e-001],\n",
       "       [4.31609625e-004, 3.92968951e-052, 9.99568390e-001],\n",
       "       [1.53253360e-004, 9.02133988e-047, 9.99846747e-001],\n",
       "       [1.48800347e-004, 4.16876102e-056, 9.99851200e-001],\n",
       "       [9.91742673e-001, 1.79376045e-116, 8.25732670e-003],\n",
       "       [1.43865480e-001, 1.87345588e-083, 8.56134520e-001],\n",
       "       [1.17978788e-002, 4.38626912e-084, 9.88202121e-001],\n",
       "       [2.20716536e-003, 1.83966966e-094, 9.97792835e-001],\n",
       "       [6.82011395e-002, 2.03418627e-082, 9.31798861e-001],\n",
       "       [1.30609465e-003, 1.79324569e-062, 9.98693905e-001],\n",
       "       [9.12430770e-003, 1.21633849e-062, 9.90875692e-001],\n",
       "       [5.50290456e-002, 1.06336849e-073, 9.44970954e-001],\n",
       "       [8.31401817e-003, 1.13026264e-085, 9.91685982e-001],\n",
       "       [4.31625248e-004, 1.94269937e-060, 9.99568375e-001],\n",
       "       [9.95809797e-005, 5.87756309e-035, 9.99900419e-001],\n",
       "       [5.74395807e-003, 1.44936206e-068, 9.94256042e-001],\n",
       "       [2.33409881e-003, 4.03844987e-063, 9.97665901e-001],\n",
       "       [1.85222572e-003, 3.85525817e-067, 9.98147774e-001],\n",
       "       [4.45524964e-004, 1.68462043e-072, 9.99554475e-001],\n",
       "       [4.65611857e-005, 3.30681507e-028, 9.99953439e-001],\n",
       "       [1.26165336e-003, 1.90989312e-064, 9.98738347e-001],\n",
       "       [1.00000000e+000, 3.13908163e-203, 1.29254164e-016],\n",
       "       [9.99999842e-001, 1.76725715e-128, 1.57862631e-007],\n",
       "       [9.99999995e-001, 3.22273399e-181, 4.50135537e-009],\n",
       "       [9.99943629e-001, 1.36169343e-148, 5.63712653e-005],\n",
       "       [1.00000000e+000, 9.27772115e-178, 1.46887543e-011],\n",
       "       [1.00000000e+000, 1.39218538e-228, 5.21152316e-011],\n",
       "       [9.99985282e-001, 3.28840631e-095, 1.47184041e-005],\n",
       "       [9.99999716e-001, 1.49457125e-196, 2.84181556e-007],\n",
       "       [9.99999991e-001, 1.10306495e-166, 9.32966009e-009],\n",
       "       [1.00000000e+000, 1.86732538e-207, 9.57107490e-013],\n",
       "       [9.99923308e-001, 1.44222575e-129, 7.66918118e-005],\n",
       "       [9.99999750e-001, 8.01374099e-140, 2.50269349e-007],\n",
       "       [9.99999990e-001, 9.26043250e-158, 9.53720203e-009],\n",
       "       [1.00000000e+000, 1.96692631e-130, 4.02560940e-012],\n",
       "       [1.00000000e+000, 2.04993235e-156, 8.48201094e-022],\n",
       "       [1.00000000e+000, 9.49052261e-156, 1.74092396e-012],\n",
       "       [9.99030443e-001, 6.70599987e-143, 9.69556924e-004],\n",
       "       [9.99992829e-001, 2.77043245e-228, 7.17123049e-006],\n",
       "       [1.00000000e+000, 7.72084918e-265, 1.29767785e-021],\n",
       "       [9.99929333e-001, 1.39033929e-113, 7.06674419e-005],\n",
       "       [1.00000000e+000, 4.40496181e-177, 8.26638515e-012],\n",
       "       [9.99999995e-001, 1.06223241e-123, 4.85758783e-009],\n",
       "       [1.00000000e+000, 1.17203824e-235, 3.75854411e-012],\n",
       "       [9.99930009e-001, 6.37194663e-116, 6.99905117e-005],\n",
       "       [9.99997218e-001, 1.91538370e-164, 2.78204093e-006],\n",
       "       [9.99105081e-001, 1.34465710e-172, 8.94919028e-004],\n",
       "       [9.99550394e-001, 4.76258212e-110, 4.49606256e-004],\n",
       "       [9.92944296e-001, 2.87085171e-112, 7.05570439e-003],\n",
       "       [1.00000000e+000, 1.29553000e-163, 3.54263548e-011],\n",
       "       [9.94568693e-001, 3.15144256e-157, 5.43130657e-003],\n",
       "       [9.99999948e-001, 6.60048484e-190, 5.17159465e-008],\n",
       "       [9.93257416e-001, 4.84028338e-201, 6.74258403e-003],\n",
       "       [1.00000000e+000, 7.00457824e-169, 7.24022291e-014],\n",
       "       [7.60692366e-001, 2.78214560e-113, 2.39307634e-001],\n",
       "       [9.99964454e-001, 3.68291735e-138, 3.55456124e-005],\n",
       "       [1.00000000e+000, 2.64405326e-207, 4.45729939e-014],\n",
       "       [1.00000000e+000, 7.75525904e-175, 6.37039385e-013],\n",
       "       [9.97056645e-001, 2.16947659e-141, 2.94335547e-003],\n",
       "       [9.93212249e-001, 1.04785607e-107, 6.78775136e-003],\n",
       "       [9.99999882e-001, 8.56275468e-152, 1.17812751e-007],\n",
       "       [1.00000000e+000, 2.46968875e-178, 2.56521215e-016],\n",
       "       [1.00000000e+000, 2.12268659e-148, 6.61450362e-014],\n",
       "       [9.99999842e-001, 1.76725715e-128, 1.57862631e-007],\n",
       "       [1.00000000e+000, 1.29610419e-187, 7.86106425e-012],\n",
       "       [1.00000000e+000, 9.34873606e-188, 5.00846760e-017],\n",
       "       [1.00000000e+000, 1.13935522e-153, 6.12067233e-015],\n",
       "       [9.99999996e-001, 3.44410652e-127, 3.79143397e-009],\n",
       "       [9.99998325e-001, 1.32376482e-136, 1.67490645e-006],\n",
       "       [1.00000000e+000, 1.15556452e-158, 2.09702232e-010],\n",
       "       [9.97941099e-001, 2.52680258e-121, 2.05890081e-003]])"
      ]
     },
     "execution_count": 9,
     "metadata": {},
     "output_type": "execute_result"
    }
   ],
   "source": [
    "gm.predict_proba(X)"
   ]
  },
  {
   "cell_type": "markdown",
   "id": "super-harvest",
   "metadata": {},
   "source": [
    "Gaussian Mixture model is a **generative model**, meaning that we can sample new instances from it. "
   ]
  },
  {
   "cell_type": "code",
   "execution_count": 10,
   "id": "essential-adaptation",
   "metadata": {},
   "outputs": [],
   "source": [
    "X_new, y_new = gm.sample(6)"
   ]
  },
  {
   "cell_type": "code",
   "execution_count": 11,
   "id": "english-separate",
   "metadata": {},
   "outputs": [
    {
     "data": {
      "text/plain": [
       "array([[6.30846601, 3.28091339, 5.77954139, 2.17222942],\n",
       "       [6.58123773, 2.73152551, 5.23339158, 2.02313703],\n",
       "       [5.04105261, 3.85046066, 1.4492698 , 0.35114666],\n",
       "       [5.3938198 , 4.09761375, 1.5151537 , 0.35198595],\n",
       "       [4.44844668, 2.65745851, 1.30331639, 0.14075086],\n",
       "       [6.37004193, 3.1979007 , 4.28993066, 1.38915008]])"
      ]
     },
     "execution_count": 11,
     "metadata": {},
     "output_type": "execute_result"
    }
   ],
   "source": [
    "X_new"
   ]
  },
  {
   "cell_type": "code",
   "execution_count": 12,
   "id": "dominant-google",
   "metadata": {},
   "outputs": [
    {
     "data": {
      "text/plain": [
       "array([0, 0, 1, 1, 1, 2])"
      ]
     },
     "execution_count": 12,
     "metadata": {},
     "output_type": "execute_result"
    }
   ],
   "source": [
    "y_new"
   ]
  },
  {
   "cell_type": "markdown",
   "id": "parliamentary-boston",
   "metadata": {},
   "source": [
    "It is also possible to estimate the density of the model at any given location with the *score_samples()* method. For each instance, this method estimates the log of the probability density function at that location --> the greater the score, the higher the density. "
   ]
  },
  {
   "cell_type": "code",
   "execution_count": 13,
   "id": "brave-terrain",
   "metadata": {},
   "outputs": [
    {
     "data": {
      "text/plain": [
       "array([ 1.57050082,  0.73787138,  1.14436656,  0.92913238,  1.411028  ,\n",
       "       -0.09451903,  0.05266884,  1.62442195,  0.27082378,  0.16706624,\n",
       "        0.83489877,  0.77168582,  0.29597841, -1.79224582, -3.41557928,\n",
       "       -2.10529279, -1.12995447,  1.47503579, -0.84612536,  0.97699215,\n",
       "       -0.92934784,  0.41079066, -3.83509616, -1.88906058, -3.17355662,\n",
       "       -0.12403068,  0.51111724,  1.37663152,  1.12464925,  0.69029112,\n",
       "        0.78206572, -0.69467132, -2.12834347, -0.8778815 ,  1.153231  ,\n",
       "        0.11508687, -1.11928741,  0.22543724,  0.13115634,  1.49896403,\n",
       "        0.94007659, -4.48978774, -0.34371496, -4.48037212, -2.58855877,\n",
       "        0.67996207,  0.3937127 ,  1.04001332,  1.16051416,  1.54721281,\n",
       "       -2.04219856, -0.26690497, -0.85097585, -2.32641778, -1.1625818 ,\n",
       "       -0.79356973, -0.81650435, -1.40144428, -0.44903274, -1.64498537,\n",
       "       -2.59281522, -0.60402676, -2.52104033, -0.11016408, -1.92916117,\n",
       "       -1.15964891, -1.27337947, -2.94118443, -5.17236275,  0.26249387,\n",
       "       -2.48742036, -0.02454445, -2.18957362, -2.5780906 ,  0.09261092,\n",
       "       -0.47884423, -1.32879795, -2.26652606, -0.06028083, -1.86484538,\n",
       "        0.12565062, -0.48783426,  0.53511418, -1.42580847, -2.52337005,\n",
       "       -2.22487564, -0.31666947, -3.75463238, -0.44087896, -0.35405085,\n",
       "       -1.84324819,  0.24217789,  0.69966243, -1.18030277,  0.44399299,\n",
       "       -1.74445511,  0.35185763,  0.58781737, -4.19949533,  0.75057275,\n",
       "       -4.19226679, -1.29772457, -0.7737406 , -1.39013677, -1.12277543,\n",
       "       -2.55209288, -4.40794322, -2.34738561, -2.07200422, -2.5261526 ,\n",
       "       -1.52065022, -0.6168643 , -0.70214856, -2.26809269, -3.40810584,\n",
       "       -1.35163494, -0.79691866, -5.03265463, -7.0613253 , -2.99294213,\n",
       "       -1.03543297, -1.69271206, -3.85000771, -1.34611142, -0.95197024,\n",
       "       -1.97375555, -1.40620213, -1.23143347, -0.91944907, -2.64585099,\n",
       "       -1.97432752, -6.03074437, -1.27613367, -1.63007441, -4.86147605,\n",
       "       -3.49787487, -2.42036311, -1.31122938, -1.45639312, -1.3702128 ,\n",
       "       -1.52329727, -4.38642158, -1.29772457, -0.99115121, -1.95926949,\n",
       "       -2.60867327, -1.90420216, -0.71719615, -2.21975718, -1.51769298])"
      ]
     },
     "execution_count": 13,
     "metadata": {},
     "output_type": "execute_result"
    }
   ],
   "source": [
    "gm.score_samples(X)"
   ]
  },
  {
   "cell_type": "markdown",
   "id": "fourth-pantyhose",
   "metadata": {},
   "source": [
    "We can reduce the difficulty of the learning task by limiting the number of parameters that the algorithm has to learn --> limit the range of shapes and orientations that the clusters can have by imposing constraints on the covariance matrices:\n",
    " * *covariance_type* = **\"spherical\"**, which means that all clusters must be spherical but have different diameters (variances) \n",
    " * *covariance_type* = **\"diag\"**, which means that clusters can take any ellipsoidal shape of any size but the axes must be parallel to the coordinate axes (covariance matrices must be diagonal) \n",
    " * *covariance_type* = **\"tied\"**, which means that clusters have the same ellipsoidal shape, size and orientation (same covariance matrix for all) \n",
    " * *covariance_type* = **\"full\"**, which means that clusters can take on any shape, size and orientation (this is the default) "
   ]
  },
  {
   "cell_type": "markdown",
   "id": "indie-plumbing",
   "metadata": {},
   "source": [
    "#### Anomaly detection using Gaussian Mixtures \n",
    "\n",
    "Any instance located in a low-density region can be considered an anomaly. Define the density threshold. "
   ]
  },
  {
   "cell_type": "code",
   "execution_count": 15,
   "id": "conscious-parts",
   "metadata": {},
   "outputs": [],
   "source": [
    "densities = gm.score_samples(X)\n",
    "import numpy as np\n",
    "density_threshold = np.percentile(densities, 4)\n",
    "anomalies = X[densities < density_threshold]"
   ]
  },
  {
   "cell_type": "code",
   "execution_count": 16,
   "id": "chubby-financing",
   "metadata": {},
   "outputs": [
    {
     "data": {
      "text/plain": [
       "array([[4.5, 2.3, 1.3, 0.3],\n",
       "       [6.2, 2.2, 4.5, 1.5],\n",
       "       [7.7, 3.8, 6.7, 2.2],\n",
       "       [7.7, 2.6, 6.9, 2.3],\n",
       "       [7.9, 3.8, 6.4, 2. ],\n",
       "       [6.1, 2.6, 5.6, 1.4]])"
      ]
     },
     "execution_count": 16,
     "metadata": {},
     "output_type": "execute_result"
    }
   ],
   "source": [
    "anomalies"
   ]
  },
  {
   "cell_type": "markdown",
   "id": "defined-summary",
   "metadata": {},
   "source": [
    "#### Selecting the number of clusters\n",
    "\n",
    "Find the model that minimizes a theoretical information criterion: \n",
    " * Bayesian Information Criterion (BIC) = $log(m)p - 2 log(\\hat{L})$\n",
    " * Akaike Information Criterion (AIC) = $2p - 2 log(\\hat{L})$ \n",
    "\n",
    "where: \n",
    " * m is the number of instances \n",
    " * p is the number of parameters learned by the model \n",
    " * $\\hat{L}$ maximized value of the likelihood function of the model \n",
    "\n",
    "Both BIC and AIC penalize models that have more parameters to learn and reward models that fit the data well. \n",
    "Difference: model selected by BIC tend to be simpler that the one selected by AIC, but tends not to fit the data as well. \n",
    "\n",
    "**Likelihood function** \n",
    "\n",
    "Given a statistical model with some parameters $\\theta$:\n",
    " * *probability* is used to describe how plausible a future outcome $x$ is knowing the parameter values --> probability density function is a function of $x$ with $\\theta$ fixed \n",
    " * *likelihood* is used to describe how plausible a particular set of parameter values is after the outcome $x$ is known --> likelihood function is a function of $\\theta$ with $x$ fixed \n",
    " \n",
    "\n",
    "Given a dataset X, we want to estimate the most likely values for the model parameters. To do this, we find the values that maximize the likelihood function given X. "
   ]
  },
  {
   "cell_type": "code",
   "execution_count": 17,
   "id": "moving-recovery",
   "metadata": {},
   "outputs": [
    {
     "data": {
      "text/plain": [
       "580.8594247694392"
      ]
     },
     "execution_count": 17,
     "metadata": {},
     "output_type": "execute_result"
    }
   ],
   "source": [
    "gm.bic(X)"
   ]
  },
  {
   "cell_type": "code",
   "execution_count": 18,
   "id": "latest-upgrade",
   "metadata": {},
   "outputs": [
    {
     "data": {
      "text/plain": [
       "448.39147182920397"
      ]
     },
     "execution_count": 18,
     "metadata": {},
     "output_type": "execute_result"
    }
   ],
   "source": [
    "gm.aic(X)"
   ]
  },
  {
   "cell_type": "markdown",
   "id": "completed-fossil",
   "metadata": {},
   "source": [
    "#### Bayesian Gaussian Mixture Models \n",
    "\n",
    "BayesianGaussianMixture class is capable of giving weights equal or close to zero to unnecessary clusters. We set the number of clusters *n_components* to a value which we have reason to believe is greater than the optimal number of clusters and then the algorithm eliminates the unnecessary clusters automatically. "
   ]
  },
  {
   "cell_type": "code",
   "execution_count": 19,
   "id": "acute-premises",
   "metadata": {},
   "outputs": [
    {
     "data": {
      "text/plain": [
       "array([0.06, 0.34, 0.19, 0.41, 0.  , 0.  , 0.  , 0.  , 0.  , 0.  ])"
      ]
     },
     "execution_count": 19,
     "metadata": {},
     "output_type": "execute_result"
    }
   ],
   "source": [
    "from sklearn.mixture import BayesianGaussianMixture \n",
    "\n",
    "bgm = BayesianGaussianMixture(n_components = 10, n_init = 10)\n",
    "bgm.fit(X)\n",
    "np.round(bgm.weights_, 2)"
   ]
  },
  {
   "cell_type": "markdown",
   "id": "existing-hollow",
   "metadata": {},
   "source": [
    "In this model, the cluster parameters (weights, means and covariance matrices) are treated as latent random variables. **Beta distribution** is commonly used to model random variables whose values lie within a fixed range (0 to 1). \n",
    "\n",
    "**Prior knowledge** about latent variables z is encoded in a probability distribution $p(z)$ called the prior. **Bayes theorem** tells how to update the probability distribution over the latent variables after we observe some data X. It computes the **posterior distribution** $p(z|X)$ which is the conditional probability of z given X. \n",
    "\n",
    "$p(z|X)$ = posterior = $\\frac{likelihood x prior}{evidence}$ = $\\frac{p(X|z) p(z)}{p(X)}$\n",
    "\n",
    "In a Gaussian mixture model, the denominator p(X) is intractable as it requires integrating over all the possible values of z (considering all possible combinations of cluster parameters and cluster assignments). \n",
    "--> approaches to solve the intractability of the evidence: \n",
    " * **variational inference** = picks a family of distributions q(z; $\\lambda$) with its own variational parameters $\\lambda$ and then optimizes these parameters to make q(z) a good approximation of p(z|X). This is achieved by finding the value of $\\lambda$ which minimizes the KL divergence from q(z) to p(z|X). "
   ]
  },
  {
   "cell_type": "markdown",
   "id": "protecting-refund",
   "metadata": {},
   "source": [
    "#### Other algorithms for anomaly and novelty detection \n",
    "\n",
    "* **PCA** = if we compare the reconstruction error of a normal instance with the reconstruction error of an anomaly, the latter will usually be much larger. \n",
    "* **Fast Minimum Covariance Determinant** = assumes that the normal instances are generated from a single Gaussian distribution and assumes that the data is contaminated with outliers that were not generated from this Gaussian distribution. (implemented in the EllipticEnvelope class) \n",
    "* **Isolation Forest** = builds a Random Forest in which each decision tree is grown randomly --> anomalies are usually far from other instances so they tend to be isolated in fewer steps than normal instances. \n",
    "* **Local Outlier Factor** = compares the density of instances around a given instance to the density around its neighbors. \n",
    "* **One-class SVM** = tries to separate the instances in a high dimensional space fromm the origin. "
   ]
  },
  {
   "cell_type": "markdown",
   "id": "outstanding-reminder",
   "metadata": {},
   "source": [
    "#### End of notebook "
   ]
  },
  {
   "cell_type": "code",
   "execution_count": null,
   "id": "encouraging-peter",
   "metadata": {},
   "outputs": [],
   "source": []
  }
 ],
 "metadata": {
  "kernelspec": {
   "display_name": "scanpy_env",
   "language": "python",
   "name": "scanpy_env"
  },
  "language_info": {
   "codemirror_mode": {
    "name": "ipython",
    "version": 3
   },
   "file_extension": ".py",
   "mimetype": "text/x-python",
   "name": "python",
   "nbconvert_exporter": "python",
   "pygments_lexer": "ipython3",
   "version": "3.8.0"
  }
 },
 "nbformat": 4,
 "nbformat_minor": 5
}
